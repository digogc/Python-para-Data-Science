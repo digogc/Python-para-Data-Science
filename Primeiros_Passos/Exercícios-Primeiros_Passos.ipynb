{
  "nbformat": 4,
  "nbformat_minor": 0,
  "metadata": {
    "colab": {
      "provenance": [],
      "include_colab_link": true
    },
    "kernelspec": {
      "name": "python3",
      "display_name": "Python 3"
    },
    "language_info": {
      "name": "python"
    }
  },
  "cells": [
    {
      "cell_type": "markdown",
      "metadata": {
        "id": "view-in-github",
        "colab_type": "text"
      },
      "source": [
        "<a href=\"https://colab.research.google.com/github/digogc/Python-para-Data-Science/blob/main/Hora_da_pratica-Primeiros_Passos.ipynb\" target=\"_parent\"><img src=\"https://colab.research.google.com/assets/colab-badge.svg\" alt=\"Open In Colab\"/></a>"
      ]
    },
    {
      "cell_type": "markdown",
      "source": [
        "# Sobre o notebook\n",
        "\n",
        "A \"hora da prática\" é uma atividade do curso de Python para Data Science da Alura que contém diversos desafios envolvendo os aprendizados de cada aula.\n",
        "\n",
        "O notebook \"hora da pratica\" é um notebook construído com espaço para as células dos desafios propostos no curso, com ele você tem espaço para construir e executar suas soluções"
      ],
      "metadata": {
        "id": "_kwAaQ36gLQ1"
      }
    },
    {
      "cell_type": "markdown",
      "source": [
        "## Aula 1 - Introdução ao Python"
      ],
      "metadata": {
        "id": "Mc-KN0dA0Z83"
      }
    },
    {
      "cell_type": "markdown",
      "source": [
        "### Questão 1\n",
        "\n",
        "Imprima a frase `Escola de Dados da Alura!`"
      ],
      "metadata": {
        "id": "l5eLWf0W0ikn"
      }
    },
    {
      "cell_type": "code",
      "source": [
        "print(\"Escola de Dados da Alura!\")"
      ],
      "metadata": {
        "id": "5pllxJ0h0-yA"
      },
      "execution_count": null,
      "outputs": []
    },
    {
      "cell_type": "markdown",
      "source": [
        "### Questão 2\n",
        "Imprima na tela seu nome e seu sobrenome seguindo a estrutura abaixo:\n",
        "```\n",
        "Nome: [seu nome]\n",
        "Sobrenome: [seu sobrenome]\n",
        "```\n"
      ],
      "metadata": {
        "id": "tQdX90Ue03c7"
      }
    },
    {
      "cell_type": "code",
      "source": [
        "print(\"Nome: Rodrigo\")\n",
        "print(\"Sobrenome: Cardoso\")"
      ],
      "metadata": {
        "id": "RVw5iKn20_Ps"
      },
      "execution_count": null,
      "outputs": []
    },
    {
      "cell_type": "markdown",
      "source": [
        "### Questão 3\n",
        "Imprima o seu primeiro nome letra a letra. Por exemplo, nome é Mirla, então eu obtenho a seguinte saída:\n",
        "```\n",
        "M\n",
        "I\n",
        "R\n",
        "L\n",
        "A\n",
        "```\n"
      ],
      "metadata": {
        "id": "gfg-aiip03vC"
      }
    },
    {
      "cell_type": "code",
      "source": [
        "nome = \"RODRIGO\"\n",
        "for letter in nome:\n",
        "  print(letter)"
      ],
      "metadata": {
        "id": "v5bkrgf60_qx",
        "colab": {
          "base_uri": "https://localhost:8080/"
        },
        "outputId": "7d50444b-a00f-4987-b063-c25054c6c2d5"
      },
      "execution_count": null,
      "outputs": [
        {
          "output_type": "stream",
          "name": "stdout",
          "text": [
            "R\n",
            "O\n",
            "D\n",
            "R\n",
            "I\n",
            "G\n",
            "O\n"
          ]
        }
      ]
    },
    {
      "cell_type": "markdown",
      "source": [
        "### Questão 4\n",
        "Imprima o dia do seu nascimento em formato `dia mês ano`. Os valores de dia e ano não podem estar entre aspas. O formato deve estar como no exemplo, supondo uma data de aniversário dia 28 de fevereiro de 2003:\n",
        "```\n",
        "28 fevereiro 2003\n",
        "```"
      ],
      "metadata": {
        "id": "oadrJbl704MM"
      }
    },
    {
      "cell_type": "code",
      "source": [
        "from datetime import date\n",
        "data = date.today()\n",
        "data = data.strftime(\"%d/%B/%Y\")\n",
        "print(data)\n",
        "\n",
        "print (\"fazendo do jeito que a alura pediu\")\n",
        "\n",
        "dia = 29\n",
        "mes = \"junho\"\n",
        "ano = 2005\n",
        "print(\"{} {} {}\" .format(dia, mes, ano))"
      ],
      "metadata": {
        "id": "cx0KSsrq1ALD",
        "colab": {
          "base_uri": "https://localhost:8080/"
        },
        "outputId": "93ba0c62-86cc-482d-99a3-15740ef47ed1"
      },
      "execution_count": 1,
      "outputs": [
        {
          "output_type": "stream",
          "name": "stdout",
          "text": [
            "19/December/2024\n",
            "fazendo do jeito que a alura pediu\n",
            "29 junho 2005\n"
          ]
        }
      ]
    },
    {
      "cell_type": "markdown",
      "source": [
        "### Questão 5\n",
        "Imprima em um único print o atual ano que você está fazendo esse curso, o valor do ano deve ser um dado numérico. A saída do print deve ser a seguinte:\n",
        "```\n",
        "Ano atual: [ano]\n",
        "```\n"
      ],
      "metadata": {
        "id": "3RgyMaan04TD"
      }
    },
    {
      "cell_type": "code",
      "execution_count": 2,
      "metadata": {
        "id": "UN77EfQ2d36Y",
        "colab": {
          "base_uri": "https://localhost:8080/"
        },
        "outputId": "4f882871-8a51-4a30-a261-9c5e209731e1"
      },
      "outputs": [
        {
          "output_type": "stream",
          "name": "stdout",
          "text": [
            "Ano atual: 2024\n"
          ]
        }
      ],
      "source": [
        "ano = date.today().year\n",
        "print(f\"Ano atual: {ano}\")"
      ]
    },
    {
      "cell_type": "markdown",
      "source": [
        "## Aula 2 - Manipulando dados no Python"
      ],
      "metadata": {
        "id": "D9e3FqhO1S3X"
      }
    },
    {
      "cell_type": "markdown",
      "source": [
        "### Coleta e amostragem de dados"
      ],
      "metadata": {
        "id": "n6o7C1Ze2cRe"
      }
    },
    {
      "cell_type": "markdown",
      "source": [
        "#### Questão 1\n",
        "Crie um programa que solicite à pessoa usuária digitar seu nome, e imprima “Olá, [nome]!”."
      ],
      "metadata": {
        "id": "sRneWag9PV5Q"
      }
    },
    {
      "cell_type": "code",
      "source": [
        "nome = input(\"Digite seu nome: \")\n",
        "print(f\"Olá, {nome}!\")"
      ],
      "metadata": {
        "id": "dbX1fKqy2HnE",
        "colab": {
          "base_uri": "https://localhost:8080/"
        },
        "outputId": "e9c1d5be-ad21-44d8-98e8-4c22faa7dbc4"
      },
      "execution_count": 3,
      "outputs": [
        {
          "output_type": "stream",
          "name": "stdout",
          "text": [
            "Digite seu nome: Rodrigo\n",
            "Olá, Rodrigo!\n"
          ]
        }
      ]
    },
    {
      "cell_type": "markdown",
      "source": [
        "#### Questão 2\n",
        "Crie um programa que solicite à pessoa usuária digitar seu nome e idade, e imprima “Olá, [nome], você tem [idade] anos.”."
      ],
      "metadata": {
        "id": "BJ1SznEp70d5"
      }
    },
    {
      "cell_type": "code",
      "source": [
        "nome, idade = input(\"Digite seu nome e idade: \").split()\n",
        "print(f\"Olá, {nome}, você tem {idade} anos.\")"
      ],
      "metadata": {
        "id": "jKz-0Sq8PFkp",
        "colab": {
          "base_uri": "https://localhost:8080/"
        },
        "outputId": "863bc8f4-a5f2-4fd2-d8fd-3d7ac49cfd07"
      },
      "execution_count": 4,
      "outputs": [
        {
          "output_type": "stream",
          "name": "stdout",
          "text": [
            "Digite seu nome e idade: Rodrigo 19\n",
            "Olá, Rodrigo, você tem 19 anos.\n"
          ]
        }
      ]
    },
    {
      "cell_type": "markdown",
      "source": [
        "#### Questão 3\n",
        "Crie um programa que solicite à pessoa usuária digitar seu nome, idade e altura em metros, e imprima “Olá, [nome], você tem [idade] anos e mede [altura] metros!”."
      ],
      "metadata": {
        "id": "2T0jNYZt70aa"
      }
    },
    {
      "cell_type": "code",
      "source": [
        "nome, idade, altura = input(\"Digite seu nome, idade e altura (em metros):\").split()\n",
        "print(f\"Olá, {nome}, você tem {idade}, e mede {altura}\")"
      ],
      "metadata": {
        "id": "pI4kHNzTPIXh",
        "colab": {
          "base_uri": "https://localhost:8080/"
        },
        "outputId": "4750356b-e303-4e14-9b49-0c8acfcc2ce2"
      },
      "execution_count": 5,
      "outputs": [
        {
          "output_type": "stream",
          "name": "stdout",
          "text": [
            "Digite seu nome, idade e altura (em metros):Rodrigo 19 1.75\n",
            "Olá, Rodrigo, você tem 19, e mede 1.75\n"
          ]
        }
      ]
    },
    {
      "cell_type": "markdown",
      "source": [
        "### Calculadora com operadores"
      ],
      "metadata": {
        "id": "mEBFwKkC70KP"
      }
    },
    {
      "cell_type": "markdown",
      "source": [
        "#### Questão 1\n",
        "\n",
        "Crie um programa que solicite dois valores numéricos à pessoa usuária e imprima a soma dos dois valores."
      ],
      "metadata": {
        "id": "H-IV1oAPPSqK"
      }
    },
    {
      "cell_type": "code",
      "source": [
        "x,y = input(\"Digite dois valores:\").split()\n",
        "soma = int(x) + int(y)\n",
        "soma"
      ],
      "metadata": {
        "id": "Zb0W84sy8rnp",
        "colab": {
          "base_uri": "https://localhost:8080/"
        },
        "outputId": "13e4a9e4-c46c-4151-e6e2-8dfbf407220b"
      },
      "execution_count": null,
      "outputs": [
        {
          "name": "stdout",
          "output_type": "stream",
          "text": [
            "Digite dois valores:5 7\n"
          ]
        },
        {
          "output_type": "execute_result",
          "data": {
            "text/plain": [
              "12"
            ]
          },
          "metadata": {},
          "execution_count": 27
        }
      ]
    },
    {
      "cell_type": "markdown",
      "source": [
        "#### Questão 2\n",
        "Crie um programa que solicite três valores numéricos à pessoa usuária e imprima a soma dos três valores."
      ],
      "metadata": {
        "id": "LUoi2MOu70Em"
      }
    },
    {
      "cell_type": "code",
      "source": [
        "x,y,z = input(\"Digite três valores: \").split()\n",
        "soma = int(x) + int(y) + int(z)\n",
        "soma"
      ],
      "metadata": {
        "id": "4FYjWyBS8rDm",
        "colab": {
          "base_uri": "https://localhost:8080/"
        },
        "outputId": "f147d28f-5c53-4c98-a37c-015ac3b536b5"
      },
      "execution_count": null,
      "outputs": [
        {
          "name": "stdout",
          "output_type": "stream",
          "text": [
            "Digite três valores: 1 2 3\n"
          ]
        },
        {
          "output_type": "execute_result",
          "data": {
            "text/plain": [
              "6"
            ]
          },
          "metadata": {},
          "execution_count": 26
        }
      ]
    },
    {
      "cell_type": "markdown",
      "source": [
        "#### Questão 3\n",
        "Crie um programa que solicite dois valores numéricos à pessoa usuária e imprima a subtração do primeiro pelo o segundo valor."
      ],
      "metadata": {
        "id": "lezGctF07z8i"
      }
    },
    {
      "cell_type": "code",
      "source": [
        "x,y = input(\"Digite dois valores: \").split()\n",
        "sub = int(x) - int(y)\n",
        "sub"
      ],
      "metadata": {
        "id": "k0GE1z4w8p3J",
        "colab": {
          "base_uri": "https://localhost:8080/"
        },
        "outputId": "da5b160c-a79b-4c3c-9445-5803b1d5754b"
      },
      "execution_count": null,
      "outputs": [
        {
          "name": "stdout",
          "output_type": "stream",
          "text": [
            "Digite dois valores: 7 3\n"
          ]
        },
        {
          "output_type": "execute_result",
          "data": {
            "text/plain": [
              "4"
            ]
          },
          "metadata": {},
          "execution_count": 28
        }
      ]
    },
    {
      "cell_type": "markdown",
      "source": [
        "#### Questão 4\n",
        "\n",
        "Crie um programa que solicite dois valores numéricos à pessoa usuária e imprima a multiplicação dos dois valores.\n"
      ],
      "metadata": {
        "id": "wwMP-dPU7zxW"
      }
    },
    {
      "cell_type": "code",
      "source": [
        "x,y = input(\"Digite dois valores: \").split()\n",
        "mul =  int(x) * int(y)\n",
        "mul"
      ],
      "metadata": {
        "id": "GzFCVHfp8peZ",
        "colab": {
          "base_uri": "https://localhost:8080/"
        },
        "outputId": "94dcb122-c975-489d-8d27-829af0e4ab6f"
      },
      "execution_count": null,
      "outputs": [
        {
          "name": "stdout",
          "output_type": "stream",
          "text": [
            "Digite dois valores: 8 9\n"
          ]
        },
        {
          "output_type": "execute_result",
          "data": {
            "text/plain": [
              "72"
            ]
          },
          "metadata": {},
          "execution_count": 29
        }
      ]
    },
    {
      "cell_type": "markdown",
      "source": [
        "#### Questão 5\n",
        "\n",
        "Crie um programa que solicite dois valores numéricos, um numerador e um denominador, e realize a divisão entre os dois valores. Deixe claro que o valor do denominador não pode ser `0`.\n"
      ],
      "metadata": {
        "id": "9kxyHxUo7zRD"
      }
    },
    {
      "cell_type": "code",
      "source": [
        "x, y = input(\"Digite dois valores: \").split()\n",
        "while(y == \"0\"):\n",
        "  print(\"O denominador não pode ser 0\")\n",
        "  y = input(\"digite um novo valor para o denominador: \")\n",
        "\n",
        "div = int(x) / int(y)\n",
        "div"
      ],
      "metadata": {
        "id": "ytJ8l5KH8ozc",
        "colab": {
          "base_uri": "https://localhost:8080/"
        },
        "outputId": "560e4032-9d18-46e9-d1d5-9946a9ba65c8"
      },
      "execution_count": null,
      "outputs": [
        {
          "name": "stdout",
          "output_type": "stream",
          "text": [
            "Digite dois valores: 5 7\n"
          ]
        },
        {
          "output_type": "execute_result",
          "data": {
            "text/plain": [
              "0.7142857142857143"
            ]
          },
          "metadata": {},
          "execution_count": 33
        }
      ]
    },
    {
      "cell_type": "markdown",
      "source": [
        "#### Questão 6\n",
        "\n",
        "Crie um programa que solicite dois valores numéricos, um operador e uma potência, e realize a exponenciação entre esses dois valores.\n"
      ],
      "metadata": {
        "id": "zkUSBTQq8Hxt"
      }
    },
    {
      "cell_type": "code",
      "source": [
        "x, y = input(\"Digite dois valores: \").split()\n",
        "pow = int(x) ** int(y)\n",
        "pow"
      ],
      "metadata": {
        "id": "RPj36jq08oZp",
        "colab": {
          "base_uri": "https://localhost:8080/"
        },
        "outputId": "c78fe30e-2a72-4f34-d986-cddbf81ad0bf"
      },
      "execution_count": null,
      "outputs": [
        {
          "name": "stdout",
          "output_type": "stream",
          "text": [
            "Digite dois valores: 7 2\n"
          ]
        },
        {
          "output_type": "execute_result",
          "data": {
            "text/plain": [
              "49"
            ]
          },
          "metadata": {},
          "execution_count": 34
        }
      ]
    },
    {
      "cell_type": "markdown",
      "source": [
        "#### Questão 7\n",
        "Crie um programa que solicite dois valores numéricos, um numerador e um denominador e realize a divisão inteira entre os dois valores. Deixe claro que o valor do denominador não pode ser `0`."
      ],
      "metadata": {
        "id": "yiunIusZ8Huj"
      }
    },
    {
      "cell_type": "code",
      "source": [
        "x, y = input(\"Digite dois valores: \").split()\n",
        "while(y == \"0\"):\n",
        "  print(\"O denominador não pode ser 0\")\n",
        "  y = input(\"digite um novo valor para o denominador: \")\n",
        "\n",
        "div = int(x) // int(y)\n",
        "div"
      ],
      "metadata": {
        "id": "UHK8xITf8oCg",
        "colab": {
          "base_uri": "https://localhost:8080/"
        },
        "outputId": "f583694f-f632-4bdc-81c1-f1b416fcd905"
      },
      "execution_count": null,
      "outputs": [
        {
          "name": "stdout",
          "output_type": "stream",
          "text": [
            "Digite dois valores: 5 0\n",
            "O denominador não pode ser 0\n",
            "digite um novo valor para o denominador: 2\n"
          ]
        },
        {
          "output_type": "execute_result",
          "data": {
            "text/plain": [
              "2"
            ]
          },
          "metadata": {},
          "execution_count": 35
        }
      ]
    },
    {
      "cell_type": "markdown",
      "source": [
        "#### Questão 8\n",
        "\n",
        "Crie um programa que solicite dois valores numéricos, um numerador e um denominador, e retorne o resto da divisão entre os dois valores. Deixe claro que o valor do denominador não pode ser `0`."
      ],
      "metadata": {
        "id": "z_D_JiLX8Hra"
      }
    },
    {
      "cell_type": "code",
      "source": [
        "x, y = input(\"Digite dois valores: \").split()\n",
        "while(y == \"0\"):\n",
        "  print(\"O denominador não pode ser 0\")\n",
        "  y = input(\"digite um novo valor para o denominador: \")\n",
        "\n",
        "div = int(x) % int(y)\n",
        "div"
      ],
      "metadata": {
        "id": "EWGJeukO8nqx",
        "colab": {
          "base_uri": "https://localhost:8080/"
        },
        "outputId": "1b4c25f3-57ad-4d9e-b942-598b8064aa16"
      },
      "execution_count": null,
      "outputs": [
        {
          "name": "stdout",
          "output_type": "stream",
          "text": [
            "Digite dois valores: 5 0\n",
            "O denominador não pode ser 0\n",
            "digite um novo valor para o denominador: 0\n",
            "O denominador não pode ser 0\n",
            "digite um novo valor para o denominador: 0\n",
            "O denominador não pode ser 0\n",
            "digite um novo valor para o denominador: 7\n"
          ]
        },
        {
          "output_type": "execute_result",
          "data": {
            "text/plain": [
              "5"
            ]
          },
          "metadata": {},
          "execution_count": 37
        }
      ]
    },
    {
      "cell_type": "markdown",
      "source": [
        "#### Questão 9\n",
        "\n",
        "Crie um código que solicita 3 notas de um estudante e imprima a média das notas."
      ],
      "metadata": {
        "id": "RDRajNkU8N8N"
      }
    },
    {
      "cell_type": "code",
      "source": [
        "a,b,c = map(float, input(\"Digite as três notas: \").split())\n",
        "media = (a + b + c) / 3\n",
        "media"
      ],
      "metadata": {
        "id": "H6F4Ojzt8nSR",
        "colab": {
          "base_uri": "https://localhost:8080/"
        },
        "outputId": "c00ba56d-9cc1-4aa8-f64b-9e9941c460b7"
      },
      "execution_count": null,
      "outputs": [
        {
          "name": "stdout",
          "output_type": "stream",
          "text": [
            "Digite as três notas: 4.5 8 8.9\n"
          ]
        },
        {
          "output_type": "execute_result",
          "data": {
            "text/plain": [
              "7.133333333333333"
            ]
          },
          "metadata": {},
          "execution_count": 42
        }
      ]
    },
    {
      "cell_type": "markdown",
      "source": [
        "#### Questão 10\n",
        "\n",
        "Crie um código que calcule e imprima a média ponderada dos números 5, 12, 20 e 15 com pesos respectivamente iguais a 1, 2, 3 e 4."
      ],
      "metadata": {
        "id": "d7fjkne58N21"
      }
    },
    {
      "cell_type": "code",
      "source": [
        "a,b,c,d = 5, 12, 20, 15\n",
        "media = (a + b*2 + c*3 + d*4) / 10\n",
        "media"
      ],
      "metadata": {
        "id": "fwjoHlV48mkv",
        "colab": {
          "base_uri": "https://localhost:8080/"
        },
        "outputId": "4e47bded-8909-4274-e47a-795358cbc923"
      },
      "execution_count": null,
      "outputs": [
        {
          "output_type": "execute_result",
          "data": {
            "text/plain": [
              "14.9"
            ]
          },
          "metadata": {},
          "execution_count": 1
        }
      ]
    },
    {
      "cell_type": "markdown",
      "source": [
        "### Editando textos"
      ],
      "metadata": {
        "id": "GNmbX1OU8N0V"
      }
    },
    {
      "cell_type": "markdown",
      "source": [
        "#### Questão 1\n",
        "\n",
        "Crie uma variável chamada “`frase`” e atribua a ela uma string de sua escolha. Em seguida, imprima a frase na tela."
      ],
      "metadata": {
        "id": "6wZ85mCsRCV0"
      }
    },
    {
      "cell_type": "code",
      "source": [
        "frase = \"estou aprendendo python\"\n",
        "frase"
      ],
      "metadata": {
        "id": "eRqr_gh-8mFy",
        "colab": {
          "base_uri": "https://localhost:8080/",
          "height": 36
        },
        "outputId": "9a9e877a-a6c3-4a60-8c59-ed60e87b7275"
      },
      "execution_count": 6,
      "outputs": [
        {
          "output_type": "execute_result",
          "data": {
            "text/plain": [
              "'estou aprendendo python'"
            ],
            "application/vnd.google.colaboratory.intrinsic+json": {
              "type": "string"
            }
          },
          "metadata": {},
          "execution_count": 6
        }
      ]
    },
    {
      "cell_type": "markdown",
      "source": [
        "#### Questão 2\n",
        "Crie um código que solicite uma frase e depois imprima a frase na tela."
      ],
      "metadata": {
        "id": "Aac17z-18Nwv"
      }
    },
    {
      "cell_type": "code",
      "source": [
        "frase = input(\"Digite uma frase: \")\n",
        "frase"
      ],
      "metadata": {
        "id": "8zfE2hh98lb0",
        "colab": {
          "base_uri": "https://localhost:8080/",
          "height": 53
        },
        "outputId": "dc31db4c-f031-4ca9-ddb3-aa28535840c3"
      },
      "execution_count": 7,
      "outputs": [
        {
          "name": "stdout",
          "output_type": "stream",
          "text": [
            "Digite uma frase: estou aprendendo python\n"
          ]
        },
        {
          "output_type": "execute_result",
          "data": {
            "text/plain": [
              "'estou aprendendo python'"
            ],
            "application/vnd.google.colaboratory.intrinsic+json": {
              "type": "string"
            }
          },
          "metadata": {},
          "execution_count": 7
        }
      ]
    },
    {
      "cell_type": "markdown",
      "source": [
        "#### Questão 3\n",
        "\n",
        "Crie um código que solicite uma frase à pessoa usuária e imprima a mesma frase digitada mas com todas as letras maiúsculas."
      ],
      "metadata": {
        "id": "DXVzqpN58Ntr"
      }
    },
    {
      "cell_type": "code",
      "source": [
        "frase = input(\"Digite uma frase: \")\n",
        "frase.upper()"
      ],
      "metadata": {
        "id": "d0VzoYP68k-I",
        "colab": {
          "base_uri": "https://localhost:8080/",
          "height": 53
        },
        "outputId": "737a29ee-0928-4e14-f060-87df7332006f"
      },
      "execution_count": 8,
      "outputs": [
        {
          "name": "stdout",
          "output_type": "stream",
          "text": [
            "Digite uma frase: aprender python é divertido\n"
          ]
        },
        {
          "output_type": "execute_result",
          "data": {
            "text/plain": [
              "'APRENDER PYTHON É DIVERTIDO'"
            ],
            "application/vnd.google.colaboratory.intrinsic+json": {
              "type": "string"
            }
          },
          "metadata": {},
          "execution_count": 8
        }
      ]
    },
    {
      "cell_type": "markdown",
      "source": [
        "#### Questão 4\n",
        "\n",
        "Crie um código que solicite uma frase à pessoa usuária e imprima a mesma frase digitada mas com todas as letras minúsculas."
      ],
      "metadata": {
        "id": "I12VeNPK8Nqb"
      }
    },
    {
      "cell_type": "code",
      "source": [
        "frase = input(\"Digite uma frase: \")\n",
        "frase.lower()"
      ],
      "metadata": {
        "id": "KD8rNy2K8kox",
        "colab": {
          "base_uri": "https://localhost:8080/",
          "height": 53
        },
        "outputId": "c390c890-fcbd-4041-ad51-ecb9cbf869fb"
      },
      "execution_count": 9,
      "outputs": [
        {
          "name": "stdout",
          "output_type": "stream",
          "text": [
            "Digite uma frase: PYTHON PARA DATA SCIENCE\n"
          ]
        },
        {
          "output_type": "execute_result",
          "data": {
            "text/plain": [
              "'python para data science'"
            ],
            "application/vnd.google.colaboratory.intrinsic+json": {
              "type": "string"
            }
          },
          "metadata": {},
          "execution_count": 9
        }
      ]
    },
    {
      "cell_type": "markdown",
      "source": [
        "#### Questão 5\n",
        "\n",
        "Crie uma variável chamada “`frase`” e atribua a ela uma string de sua escolha. Em seguida, imprima a frase sem espaços em branco no início e no fim."
      ],
      "metadata": {
        "id": "cRqngSE48Nog"
      }
    },
    {
      "cell_type": "code",
      "source": [
        "frase = \"  estou aprendendo python  \"\n",
        "frase.strip()"
      ],
      "metadata": {
        "id": "aSCpdF-o8kBs",
        "colab": {
          "base_uri": "https://localhost:8080/",
          "height": 36
        },
        "outputId": "71bbaa9c-036e-40ee-a736-735ec4360585"
      },
      "execution_count": 11,
      "outputs": [
        {
          "output_type": "execute_result",
          "data": {
            "text/plain": [
              "'estou aprendendo python'"
            ],
            "application/vnd.google.colaboratory.intrinsic+json": {
              "type": "string"
            }
          },
          "metadata": {},
          "execution_count": 11
        }
      ]
    },
    {
      "cell_type": "markdown",
      "source": [
        "#### Questão 6\n",
        "\n",
        "Crie um código que solicite uma frase à pessoa usuária e imprima a mesma frase sem espaços em branco no início e no fim."
      ],
      "metadata": {
        "id": "murIazpQ8Nkv"
      }
    },
    {
      "cell_type": "code",
      "source": [
        "frase = input(\"Digite uma frase: \")\n",
        "frase.strip()"
      ],
      "metadata": {
        "id": "tHunjwuG8jNq",
        "colab": {
          "base_uri": "https://localhost:8080/",
          "height": 53
        },
        "outputId": "81e52462-2ad1-4007-d379-3ffd7fc317ae"
      },
      "execution_count": 12,
      "outputs": [
        {
          "name": "stdout",
          "output_type": "stream",
          "text": [
            "Digite uma frase:             python é bem divertido\n"
          ]
        },
        {
          "output_type": "execute_result",
          "data": {
            "text/plain": [
              "'python é bem divertido'"
            ],
            "application/vnd.google.colaboratory.intrinsic+json": {
              "type": "string"
            }
          },
          "metadata": {},
          "execution_count": 12
        }
      ]
    },
    {
      "cell_type": "markdown",
      "source": [
        "#### Questão 7\n",
        "\n",
        "\n",
        "Crie um código que solicite uma frase à pessoa usuária e imprima a mesma frase sem espaços em branco no início e no fim e em letras minúsculas."
      ],
      "metadata": {
        "id": "eRxc2OeX8Nh2"
      }
    },
    {
      "cell_type": "code",
      "source": [
        "frase = input(\"Digite uma frase: \")\n",
        "frase.strip().lower()"
      ],
      "metadata": {
        "id": "DYm0_UwS8ih6",
        "colab": {
          "base_uri": "https://localhost:8080/",
          "height": 53
        },
        "outputId": "efb121fa-5709-4a40-fbb3-80f6c58ecf02"
      },
      "execution_count": 13,
      "outputs": [
        {
          "name": "stdout",
          "output_type": "stream",
          "text": [
            "Digite uma frase:               DATA SCIENCE\n"
          ]
        },
        {
          "output_type": "execute_result",
          "data": {
            "text/plain": [
              "'data science'"
            ],
            "application/vnd.google.colaboratory.intrinsic+json": {
              "type": "string"
            }
          },
          "metadata": {},
          "execution_count": 13
        }
      ]
    },
    {
      "cell_type": "markdown",
      "source": [
        "#### Questão 8\n",
        "\n",
        "Crie um código que solicite uma frase à pessoa usuária e imprima a mesma frase com todas as vogais “`e`” trocadas pela letra “`f`”."
      ],
      "metadata": {
        "id": "UKATLavs8NfI"
      }
    },
    {
      "cell_type": "code",
      "source": [
        "frase = input(\"Digite uma frase: \")\n",
        "frase.replace(\"e\",\"f\")"
      ],
      "metadata": {
        "id": "k64C5G5S8iLO",
        "colab": {
          "base_uri": "https://localhost:8080/",
          "height": 53
        },
        "outputId": "0bc84552-a391-45cf-979f-8289dbca7ffa"
      },
      "execution_count": 14,
      "outputs": [
        {
          "name": "stdout",
          "output_type": "stream",
          "text": [
            "Digite uma frase: eu estou aprendendo data science\n"
          ]
        },
        {
          "output_type": "execute_result",
          "data": {
            "text/plain": [
              "'fu fstou aprfndfndo data scifncf'"
            ],
            "application/vnd.google.colaboratory.intrinsic+json": {
              "type": "string"
            }
          },
          "metadata": {},
          "execution_count": 14
        }
      ]
    },
    {
      "cell_type": "markdown",
      "source": [
        "#### Questão 9\n",
        "\n",
        "\n",
        "Crie um código que solicite uma frase à pessoa usuária e imprima a mesma frase com todas as vogais “`a`” trocadas pela caractere  “`@`”."
      ],
      "metadata": {
        "id": "n_1SPchw8NdG"
      }
    },
    {
      "cell_type": "code",
      "source": [
        "frase = input(\"Digite uma frase: \")\n",
        "frase.replace(\"a\",\"@\")"
      ],
      "metadata": {
        "id": "msaDNm_p8h0D",
        "colab": {
          "base_uri": "https://localhost:8080/",
          "height": 53
        },
        "outputId": "a35da7c5-4332-430c-9fa2-46b6ae8ddf53"
      },
      "execution_count": 15,
      "outputs": [
        {
          "name": "stdout",
          "output_type": "stream",
          "text": [
            "Digite uma frase: Aprender Python esta sendo legal]\n"
          ]
        },
        {
          "output_type": "execute_result",
          "data": {
            "text/plain": [
              "'Aprender Python est@ sendo leg@l]'"
            ],
            "application/vnd.google.colaboratory.intrinsic+json": {
              "type": "string"
            }
          },
          "metadata": {},
          "execution_count": 15
        }
      ]
    },
    {
      "cell_type": "markdown",
      "source": [
        "#### Questão 10\n",
        "\n",
        "\n",
        "Crie um código que solicite uma frase à pessoa usuária e imprima a mesma frase com todas as consoantes “`s`” trocadas pelo caractere  “`$`”."
      ],
      "metadata": {
        "id": "H3sTTjqI8Naa"
      }
    },
    {
      "cell_type": "code",
      "source": [
        "frase = input(\"Digite uma frase: \")\n",
        "frase.replace(\"s\",\"$\")"
      ],
      "metadata": {
        "id": "RPBIsWT68e-1",
        "colab": {
          "base_uri": "https://localhost:8080/",
          "height": 53
        },
        "outputId": "2a65899b-ca46-40f5-9946-a365796b359f"
      },
      "execution_count": 17,
      "outputs": [
        {
          "name": "stdout",
          "output_type": "stream",
          "text": [
            "Digite uma frase: sou feliz aprendendo data science\n"
          ]
        },
        {
          "output_type": "execute_result",
          "data": {
            "text/plain": [
              "'$ou feliz aprendendo data $cience'"
            ],
            "application/vnd.google.colaboratory.intrinsic+json": {
              "type": "string"
            }
          },
          "metadata": {},
          "execution_count": 17
        }
      ]
    },
    {
      "cell_type": "markdown",
      "source": [
        "## Aula 3 - Estruturas condicionais"
      ],
      "metadata": {
        "id": "XGePe4GD2I59"
      }
    },
    {
      "cell_type": "markdown",
      "source": [
        "### Aquecendo na programação"
      ],
      "metadata": {
        "id": "Pr9HTW0UHCdD"
      }
    },
    {
      "cell_type": "markdown",
      "source": [
        "#### Questão 1\n",
        "Escreva um programa que peça à pessoa usuária para fornecer dois números e exibir o número maior."
      ],
      "metadata": {
        "id": "xBZHqhVg80Fy"
      }
    },
    {
      "cell_type": "code",
      "source": [
        "num1 = int(input(\"insira um numero \"))\n",
        "num2 = int(input(\"insira mais um numero \"))\n",
        "\n",
        "if num1 > num2:\n",
        "  maior = num1\n",
        "elif num1 == num2:\n",
        "  maior = 'ambos'\n",
        "else:\n",
        "  maior = num2\n",
        "\n",
        "print(f\"o maior numero é {maior}\")"
      ],
      "metadata": {
        "id": "GJlGnzjc-xyF",
        "colab": {
          "base_uri": "https://localhost:8080/"
        },
        "outputId": "84d738be-dcc3-41f3-cb8b-ccf0cd74f8fa"
      },
      "execution_count": null,
      "outputs": [
        {
          "output_type": "stream",
          "name": "stdout",
          "text": [
            "insira um numero 2\n",
            "insira mais um numero 3\n",
            "o maior numero é 3\n"
          ]
        }
      ]
    },
    {
      "cell_type": "markdown",
      "source": [
        "#### Questão 2\n",
        "Escreva um programa que solicite o percentual de crescimento de produção de uma empresa e informe se houve um crescimento (porcentagem positiva) ou decrescimento (porcentagem negativa)."
      ],
      "metadata": {
        "id": "H4sgN7dyHNJF"
      }
    },
    {
      "cell_type": "code",
      "source": [
        "percentual = float(input('insira o percentual de crescimento da sua empresa'))\n",
        "if percentual < 0:\n",
        "  print('infelizmente houve descrescimento')\n",
        "elif percentual == 0:\n",
        "  print('Houve crescimento!')\n",
        "else:\n",
        "  print('Não houve crescimento nem descresimento')"
      ],
      "metadata": {
        "id": "-2_Ry5XJ-yZW",
        "colab": {
          "base_uri": "https://localhost:8080/"
        },
        "outputId": "85ff3282-a1ee-44db-9b78-4d675cdd3867"
      },
      "execution_count": null,
      "outputs": [
        {
          "output_type": "stream",
          "name": "stdout",
          "text": [
            "insira o percentual de crescimento da sua empresa-20\n",
            "infelizmente houve descrescimento\n"
          ]
        }
      ]
    },
    {
      "cell_type": "markdown",
      "source": [
        "#### Questão 3\n",
        "Escreva um programa que determine se uma letra fornecida pela pessoa usuária é uma vogal ou consoante."
      ],
      "metadata": {
        "id": "a_mzNOBDHNny"
      }
    },
    {
      "cell_type": "code",
      "source": [
        "vogais = 'aeiou'\n",
        "letra = input('Insira uma letra ').lower()\n",
        "\n",
        "while len(letra) != 1:\n",
        "  letra = input('tente inserir somente uma letra ').lower()\n",
        "\n",
        "if letra in vogais:\n",
        "  print('É uma vogal')\n",
        "else:\n",
        "  print('É uma consoante')"
      ],
      "metadata": {
        "id": "NbgndVyg-zFJ",
        "colab": {
          "base_uri": "https://localhost:8080/"
        },
        "outputId": "095abb23-d493-4b4b-c435-722b1bbd3c41"
      },
      "execution_count": null,
      "outputs": [
        {
          "output_type": "stream",
          "name": "stdout",
          "text": [
            "Insira uma letra R\n",
            "É uma consoante\n"
          ]
        }
      ]
    },
    {
      "cell_type": "markdown",
      "source": [
        "#### Questão 4\n",
        "Escreva um programa que leia valores médios de preços de um modelo de carro por 3 anos consecutivos e exiba o valor mais alto e mais baixo entre esses três anos."
      ],
      "metadata": {
        "id": "mofMRjSZHP99"
      }
    },
    {
      "cell_type": "code",
      "source": [
        "ano1 = float(input('Insira o valor no ano 1 '))\n",
        "ano2 = float(input('Insira o valor no ano 2 '))\n",
        "ano3 = float(input('Insira o valor no ano 3 '))\n",
        "\n",
        "if ano1 > ano2 and ano1 > ano3:\n",
        "  maior = ano1\n",
        "elif ano2 > ano1 and ano2 > ano3:\n",
        "  maior = ano2\n",
        "else:\n",
        "  maior = ano3\n",
        "\n",
        "if ano1 < ano2 and ano1 < ano3:\n",
        "  menor = ano1\n",
        "elif ano2 < ano1 and ano2 < ano3:\n",
        "  menor = ano2\n",
        "else:\n",
        "  menor = ano3\n",
        "\n",
        "print(f'O maior preço foi {maior}')\n",
        "print(f'o menor preço foi {menor}')"
      ],
      "metadata": {
        "id": "TX--d3k9-02c",
        "colab": {
          "base_uri": "https://localhost:8080/"
        },
        "outputId": "95912cc3-b8b3-43b8-bdcf-2475647e3ac8"
      },
      "execution_count": null,
      "outputs": [
        {
          "output_type": "stream",
          "name": "stdout",
          "text": [
            "Insira o valor no ano 1 20\n",
            "Insira o valor no ano 2 30\n",
            "Insira o valor no ano 3 10\n",
            "O maior preço foi 30.0\n",
            "o menor preço foi 10.0\n"
          ]
        }
      ]
    },
    {
      "cell_type": "markdown",
      "source": [
        "#### Questão 5\n",
        "Escreva um programa que pergunte sobre o preço de três produtos e indique qual é o produto mais barato para comprar."
      ],
      "metadata": {
        "id": "jY5tIwd-HQzc"
      }
    },
    {
      "cell_type": "code",
      "source": [
        "p1 = float(input('Insira o valor do produto 1 '))\n",
        "p2 = float(input('Insira o valor do produto 2 '))\n",
        "p3 = float(input('Insira o valor do produto 3 '))\n",
        "\n",
        "if p1 < p2 and p1 < p3:\n",
        "  print('O produto mais barato é o primeiro')\n",
        "elif p2 < p1 and p2 < p3:\n",
        "  print('O produto mais barato é o segundo')\n",
        "else:\n",
        "  print('O produto mais barato é o terceiro')"
      ],
      "metadata": {
        "id": "sYqNh9df-0gk",
        "colab": {
          "base_uri": "https://localhost:8080/"
        },
        "outputId": "e41ae941-e85c-4a57-de14-0e34765be533"
      },
      "execution_count": null,
      "outputs": [
        {
          "output_type": "stream",
          "name": "stdout",
          "text": [
            "Insira o valor do produto 1 10\n",
            "Insira o valor do produto 2 14\n",
            "Insira o valor do produto 3 2\n",
            "O produto mais barato é o terceiro\n"
          ]
        }
      ]
    },
    {
      "cell_type": "markdown",
      "source": [
        "#### Questão 6\n",
        "Escreva um programa que leia três números e os exiba em ordem decrescente."
      ],
      "metadata": {
        "id": "1r6aVxtTHR4E"
      }
    },
    {
      "cell_type": "code",
      "source": [
        "num1 = int(input('Insira o primeiro valor '))\n",
        "num2 = int(input('Insira o segundo valor '))\n",
        "num3 = int(input('Insira o terceiro valor '))\n",
        "\n",
        "if num1 < num2 and num1 < num3:\n",
        "  if num2 < num3:\n",
        "    print(f'{num1}, {num2}, {num3}')\n",
        "  else:\n",
        "    print(f'{num1}, {num3}, {num2}')\n",
        "\n",
        "elif num2 < num1 and num2 < num3:\n",
        "  if num1 < num3:\n",
        "    print(f'{num2}, {num1}, {num3}')\n",
        "  else:\n",
        "    print(f'{num2}, {num3}, {num1}')\n",
        "\n",
        "else:\n",
        "  if num1 < num2:\n",
        "    print(f'{num3}, {num1}, {num2}')\n",
        "  else:\n",
        "    print(f'{num3}, {num2}, {num1}')"
      ],
      "metadata": {
        "id": "ydOCYUMO-0Hk",
        "colab": {
          "base_uri": "https://localhost:8080/"
        },
        "outputId": "5bac4257-2fc1-429c-cf7b-17b9a8d96dfc"
      },
      "execution_count": null,
      "outputs": [
        {
          "output_type": "stream",
          "name": "stdout",
          "text": [
            "Insira o primeiro valor 18\n",
            "Insira o segundo valor -2\n",
            "Insira o terceiro valor 4\n",
            "-2, 4, 18\n"
          ]
        }
      ]
    },
    {
      "cell_type": "markdown",
      "source": [
        "#### Questão 7\n",
        "Escreva um programa que pergunte em qual turno a pessoa usuária estuda (\"manhã\", \"tarde\" ou \"noite\") e exiba a mensagem \"Bom Dia!\", \"Boa Tarde!\", \"Boa Noite!\", ou \"Valor Inválido!\", conforme o caso."
      ],
      "metadata": {
        "id": "inW3F-hAHS_X"
      }
    },
    {
      "cell_type": "code",
      "source": [
        "controle = 0\n",
        "while controle == 0:\n",
        "  controle = 1\n",
        "  turno = input('Insira o turno em que você estuda (manhã, tarde ou noite): ').lower()\n",
        "  if turno == 'manhã':\n",
        "    print('Bom Dia!')\n",
        "  elif turno == 'tarde':\n",
        "    print('Boa Tarde!')\n",
        "  elif turno == 'noite':\n",
        "    print('Boa Noite!')\n",
        "  else:\n",
        "    print('Valor Inválido')\n",
        "    controle = 0"
      ],
      "metadata": {
        "id": "-_q-Pcr_-zth",
        "colab": {
          "base_uri": "https://localhost:8080/"
        },
        "outputId": "8f4b82b0-4cb6-4599-a308-87d2634f3c69"
      },
      "execution_count": null,
      "outputs": [
        {
          "output_type": "stream",
          "name": "stdout",
          "text": [
            "Insira o turno em que você estuda (manhã, tarde ou noite): joia\n",
            "Valor Inválido\n",
            "Insira o turno em que você estuda (manhã, tarde ou noite): Tarde\n",
            "Boa Tarde!\n"
          ]
        }
      ]
    },
    {
      "cell_type": "markdown",
      "source": [
        "#### Questão 8\n",
        "Escreva um programa que peça um número inteiro à pessoa usuária e determine se ele é par ou ímpar. Dica: Você pode utilizar o operador módulo `%`."
      ],
      "metadata": {
        "id": "NCCPF3QqHTw-"
      }
    },
    {
      "cell_type": "code",
      "source": [
        "numero = int(input('Insira um número inteiro: '))\n",
        "\n",
        "if numero % 2 == 0:\n",
        "  print('É um número par!')\n",
        "else:\n",
        "  print('É um número ímpar')"
      ],
      "metadata": {
        "id": "OmZJt1nQ-3e6",
        "colab": {
          "base_uri": "https://localhost:8080/"
        },
        "outputId": "b4989314-65cc-4324-e30c-2bf5782c686e"
      },
      "execution_count": null,
      "outputs": [
        {
          "output_type": "stream",
          "name": "stdout",
          "text": [
            "Insira um número inteiro: 2\n",
            "É um número par!\n"
          ]
        }
      ]
    },
    {
      "cell_type": "markdown",
      "source": [
        "#### Questão 9\n",
        "Escreva um programa que peça um número à pessoa usuária e informe se ele é inteiro ou decimal."
      ],
      "metadata": {
        "id": "h93Ck1tQHUwE"
      }
    },
    {
      "cell_type": "code",
      "source": [
        "numero = float(input('Insira um número: '))\n",
        "\n",
        "if numero % 1 == 0:\n",
        "  print('É um número inteiro')\n",
        "else:\n",
        "  print('É um numero decimal')"
      ],
      "metadata": {
        "id": "sLMlZcx8-20N",
        "colab": {
          "base_uri": "https://localhost:8080/"
        },
        "outputId": "2271e94e-89b9-4959-9309-85ace15b6a2c"
      },
      "execution_count": null,
      "outputs": [
        {
          "output_type": "stream",
          "name": "stdout",
          "text": [
            "Insira um número: 5.3\n",
            "É um numero decimal\n"
          ]
        }
      ]
    },
    {
      "cell_type": "markdown",
      "source": [
        "### Momento dos projetos"
      ],
      "metadata": {
        "id": "bKdXSK1SH_pF"
      }
    },
    {
      "cell_type": "markdown",
      "source": [
        "#### Questão 10\n",
        "Um programa deve ser escrito para ler dois números e, em seguida, perguntar à pessoa usuária qual operação ele deseja realizar. O resultado da operação deve incluir informações sobre o número - se é par ou ímpar, positivo ou negativo e inteiro ou decimal."
      ],
      "metadata": {
        "id": "WBlEyyzsHV86"
      }
    },
    {
      "cell_type": "code",
      "source": [
        "# inicializando os valores possiveis para operações\n",
        "operacoes = '+-*/'\n",
        "operacao = ' '\n",
        "\n",
        "# pegando os valores dos operandos\n",
        "numeros = []\n",
        "while len(numeros) != 2:\n",
        "  numeros = list(map(float, input('Insira dois valores: ').split(' ')))\n",
        "\n",
        "# atribuindo os valores corretamente\n",
        "num1 = numeros[0]\n",
        "num2 = numeros[1]\n",
        "\n",
        "# selecionando a operação desejada\n",
        "while operacao not in operacoes:\n",
        "  operacao = input('Escolha uma operação dentre as possiveis (+, -, *, ou /): ')\n",
        "  if operacao == '/' and num2 == 0:\n",
        "    print('Não é possível realizar divisão por zero, por favor escolha outra operação')\n",
        "    operacao = ' '\n",
        "\n",
        "# realizando a operação desejada\n",
        "if operacao == '+':\n",
        "  resultado = num1 + num2\n",
        "elif operacao == '-':\n",
        "  resultado = num1 - num2\n",
        "elif operacao == '*':\n",
        "  resultado = num1 * num2\n",
        "else:\n",
        "    resultado = num1 / num2\n",
        "\n",
        "# vendo se o resultado é par ou ímpar\n",
        "if resultado % 2 == 0:\n",
        "  print('O resultado é par')\n",
        "elif resultado %2 == 1:\n",
        "  print('O resultado é ímpar')\n",
        "else:\n",
        "  print('Como não é um número inteiro, não podemos dizer se é par ou ímpar')\n",
        "\n",
        "# vendo se o resultado é positivo ou negativo\n",
        "if resultado > 0:\n",
        "  print('O resultado é positivo')\n",
        "elif resultado < 0:\n",
        "  print('O resultado é negativo')\n",
        "else:\n",
        "  print('O resultado é neutro')\n",
        "\n",
        "# vendo se o resultado é inteiro ou decimal\n",
        "if resultado % 1 == 0:\n",
        "  print('O resultado é inteiro')\n",
        "else:\n",
        "  print('O resultado é decimal')\n",
        "\n",
        "# imprimindo o valor do resultado\n",
        "print(f'Este é o valor do resultado: {resultado}')"
      ],
      "metadata": {
        "id": "3jmahZ0f-2gq",
        "colab": {
          "base_uri": "https://localhost:8080/"
        },
        "outputId": "ab908b5d-1da8-4397-9268-20fd8b72e063"
      },
      "execution_count": null,
      "outputs": [
        {
          "output_type": "stream",
          "name": "stdout",
          "text": [
            "Insira dois valores: 15 0\n",
            "Escolha uma operação dentre as possiveis (+, -, *, ou /): /\n",
            "Não é possível realizar divisão por zero, por favor escolha outra operação\n",
            "Escolha uma operação dentre as possiveis (+, -, *, ou /): *\n",
            "O resultado é par\n",
            "O resultado é neutro\n",
            "O resultado é inteiro\n",
            "Este é o valor do resultado: 0.0\n"
          ]
        }
      ]
    },
    {
      "cell_type": "markdown",
      "source": [
        "#### Questão 11\n",
        "Escreva um programa que peça à pessoa usuária três números que representam os lados de um triângulo. O programa deve informar se os valores podem ser utilizados para formar um triângulo e, caso afirmativo, se ele é equilátero, isósceles ou escaleno. Tenha em mente algumas dicas:\n",
        "- Três lados formam um triângulo quando a soma de quaisquer dois lados for maior que o terceiro;\n",
        "- Triângulo Equilátero: três lados iguais;\n",
        "- Triângulo Isósceles: quaisquer dois lados iguais;\n",
        "- Triângulo Escaleno: três lados diferentes;\n"
      ],
      "metadata": {
        "id": "VdnlULxHHW19"
      }
    },
    {
      "cell_type": "code",
      "source": [
        "# pegando os valores lados\n",
        "lados = []\n",
        "while len(lados) != 3:\n",
        "  lados = list(map(float, input('Insira os valores dos três lados: ').split(' ')))\n",
        "  if 0 in lados:\n",
        "    print('Não insira o valor 0 ')\n",
        "    lados.clear()\n",
        "\n",
        "\n",
        "# atribuindo os valores corretamente\n",
        "l1 = lados[0]\n",
        "l2 = lados[1]\n",
        "l3 = lados[2]\n",
        "\n",
        "# verifica se é possível formar um triângulo com os valores atribuidos\n",
        "if l1 + l2 > l3 and l1 + l3 > l2 and l2 + l3 > l1:\n",
        "  # verifica se é um triângulo equilatero\n",
        "  if l1 == l2 == l3:\n",
        "    print('É um triângulo equilátero')\n",
        "  # verifica se é um triângulo isósceles\n",
        "  elif l1 == l2 or l1 == l3 or l2 == l3:\n",
        "    print('É um triângulo isósceles')\n",
        "  # se chegou até aqui, só pode ser um triângulo escaleno\n",
        "  else:\n",
        "    print('É um triângulo escaleno')\n",
        "\n",
        "else:\n",
        "  print('Não foi possível formar um triângulo com estes valores')"
      ],
      "metadata": {
        "id": "0z73sqUO-2Pw",
        "colab": {
          "base_uri": "https://localhost:8080/"
        },
        "outputId": "00fcd702-5590-4443-9b81-d74552807fb0"
      },
      "execution_count": null,
      "outputs": [
        {
          "output_type": "stream",
          "name": "stdout",
          "text": [
            "Insira os valores dos três lados: 3 4 5\n",
            "É um triângulo escaleno\n"
          ]
        }
      ]
    },
    {
      "cell_type": "markdown",
      "source": [
        "#### Questão 12\n",
        "Um estabelecimento está vendendo combustíveis com descontos variados. Para o etanol, se a quantidade comprada for até 15 litros, o desconto será de 2% por litro. Caso contrário, será de 4% por litro. Para o diesel, se a quantidade comprada for até 15 litros, o desconto será de 3% por litro. Caso contrário, será de 5% por litro. O preço do litro de diesel é R\\$ 2,00 e o preço do litro de etanol é R\\$ 1,70. Escreva um programa que leia a quantidade de litros vendidos e o tipo de combustível (E para etanol e D para diesel) e calcule o valor a ser pago pelo cliente. Tenha em mente algumas dicas:\n",
        "\n",
        "- O do valor do desconto será a multiplicação entre preço do litro, quantidade de litros e o valor do desconto.\n",
        "- O valor a ser pago por um cliente será o resultado da multiplicação do preço do litro pela quantidade de litros menos o valor de desconto resultante do cálculo.\n"
      ],
      "metadata": {
        "id": "_PpEpOugHXwZ"
      }
    },
    {
      "cell_type": "code",
      "source": [
        "# extraindo a quantidade de litros\n",
        "litros = float(input('Insira a quantidade de litros vendidos: '))\n",
        "\n",
        "# extraindo o tipo de combustivel\n",
        "tipo = ' '\n",
        "while tipo != 'E' and tipo != 'D':\n",
        "  tipo = input('Insira o tipo de combustível (E para etanol e D para diesel): ').upper()\n",
        "\n",
        "# faz os calculos para o diesel\n",
        "if tipo == 'D':\n",
        "  if litros <= 15:\n",
        "    preco = litros*2*0.98\n",
        "  else:\n",
        "    preco = litros*2*0.96\n",
        "\n",
        "# faz os calculos para o etanol\n",
        "else:\n",
        "  if litros <= 15:\n",
        "    preco = litros*1.70*0.97\n",
        "  else:\n",
        "    preco = litros*1.70*0.95\n",
        "\n",
        "print(f'O valor total ficou: {preco}')"
      ],
      "metadata": {
        "id": "9izoF-0O-1yD",
        "colab": {
          "base_uri": "https://localhost:8080/"
        },
        "outputId": "14ffc12b-9094-4843-a01e-501290b9bb5e"
      },
      "execution_count": null,
      "outputs": [
        {
          "output_type": "stream",
          "name": "stdout",
          "text": [
            "Insira a quantidade de litros vendidos: 20\n",
            "Insira o tipo de combustível (E para etanol e D para diesel): D\n",
            "O valor total ficou: 38.4\n"
          ]
        }
      ]
    },
    {
      "cell_type": "markdown",
      "source": [
        "#### Questão 13\n",
        "Em uma empresa de venda de imóveis você precisa criar um código que analise os dados de vendas anuais para ajudar a diretoria na tomada de decisão. O código precisa coletar os dados de quantidade de venda durante os anos de 2022 e 2023 e fazer um cálculo de variação percentual. A partir do valor da variação, deve ser enviada às seguintes sugestões:\n",
        "- Para variação acima de 20%: bonificação para o time de vendas.\n",
        "- Para variação entre 2% e 20%: pequena bonificação para time de vendas.\n",
        "- Para variação entre 2% e -10%: planejamento de políticas de incentivo às vendas.\n",
        "- Para bonificações abaixo de -10%: corte de gastos.\n"
      ],
      "metadata": {
        "id": "s_XS_D1WHY2R"
      }
    },
    {
      "cell_type": "code",
      "source": [
        "# Adquirindo ambos os valores\n",
        "vendas22 = int(input('Insira a quantidade de vendas realizadas no ano de 2022: '))\n",
        "vendas23 = int(input('Insira a quantidade de vendas realizadas no ano de 2023: '))\n",
        "\n",
        "# Calculando a porcentagem de crescimento em decimal e depois em porcentagem\n",
        "variacao = (vendas23 - vendas22) / vendas22\n",
        "variacao = variacao * 100\n",
        "\n",
        "# Com base na variação, dar uma sugestão\n",
        "if variacao > 20:\n",
        "  print('Bonificação para o time de vendas')\n",
        "elif variacao > 2:\n",
        "  print('Pequena bonificação para time de vendas')\n",
        "elif variacao > -10:\n",
        "  print('Planejamento de políticas de incentivo às vendas')\n",
        "else:\n",
        "  print('Corte de gastos')"
      ],
      "metadata": {
        "id": "avQrYlUg-w8f",
        "colab": {
          "base_uri": "https://localhost:8080/"
        },
        "outputId": "5b91b111-3f4c-47f5-b795-2c8fffb6fa15"
      },
      "execution_count": null,
      "outputs": [
        {
          "output_type": "stream",
          "name": "stdout",
          "text": [
            "Insira a quantidade de vendas realizadas no ano de 2022: 1000\n",
            "Insira a quantidade de vendas realizadas no ano de 2023: 850\n",
            "Corte de gastos\n"
          ]
        }
      ]
    },
    {
      "cell_type": "markdown",
      "source": [
        "## Aula 4 - Estruturas de repetição"
      ],
      "metadata": {
        "id": "AuaWh4-d2Itt"
      }
    },
    {
      "cell_type": "markdown",
      "source": [
        "### Aquecendo na programação"
      ],
      "metadata": {
        "id": "6MSqU0sIJRdD"
      }
    },
    {
      "cell_type": "markdown",
      "source": [
        "#### Questão 1\n",
        "Escreva um programa que peça dois números inteiros e imprima todos os números inteiros entre eles."
      ],
      "metadata": {
        "id": "9eGGyCnAJRdQ"
      }
    },
    {
      "cell_type": "code",
      "source": [
        "num1 = int(input('Insira o primeiro número: '))\n",
        "num2 = int(input('Insira o segundo número: '))\n",
        "\n",
        "if num1 < num2:\n",
        "  for i in range(num1+1, num2):\n",
        "    print(i)\n",
        "elif num2 < num1:\n",
        "  for i in range(num2+1, num1):\n",
        "    print(i)\n",
        "else:\n",
        "  print('Os dois números são iguais')"
      ],
      "metadata": {
        "id": "ID1oc1hxJRdQ",
        "colab": {
          "base_uri": "https://localhost:8080/"
        },
        "outputId": "38ef3957-772e-441d-ef5f-82719569b9f2"
      },
      "execution_count": null,
      "outputs": [
        {
          "output_type": "stream",
          "name": "stdout",
          "text": [
            "Insira o primeiro número: 8\n",
            "Insira o segundo número: 4\n",
            "5\n",
            "6\n",
            "7\n"
          ]
        }
      ]
    },
    {
      "cell_type": "markdown",
      "source": [
        "#### Questão 2\n",
        "Escreva um programa para calcular quantos dias levará para a colônia de uma bactéria A ultrapassar ou igualar a colônia de uma bactéria B, com base nas taxas de crescimento de 3% e 1,5% respectivamente. Considere que a colônia A inicia com 4 elementos e a colônia B com 10 elementos."
      ],
      "metadata": {
        "id": "mGonEHYCJRdR"
      }
    },
    {
      "cell_type": "code",
      "source": [
        "# elementos em A e em B\n",
        "EA = 4\n",
        "EB = 10\n",
        "\n",
        "# inicializando o contador de dias\n",
        "dias = 0\n",
        "# enquanto o B tiver mais elementos que A, continua a executar\n",
        "while EA < EB:\n",
        "  EA*=1.030\n",
        "  EB*=1.015\n",
        "  dias+=1\n",
        "\n",
        "print(f'A colônia A demorou {dias} dias para alcançar a colônia B')"
      ],
      "metadata": {
        "id": "wM6FJuoqJRdR",
        "colab": {
          "base_uri": "https://localhost:8080/"
        },
        "outputId": "4b4c7f83-03dc-4414-ae27-f6c2e1572e38"
      },
      "execution_count": null,
      "outputs": [
        {
          "output_type": "stream",
          "name": "stdout",
          "text": [
            "A colônia A demorou 63 dias para alcançar a colônia B\n"
          ]
        }
      ]
    },
    {
      "cell_type": "markdown",
      "source": [
        "#### Questão 3\n",
        "Para tratar uma quantidade de 15 dados de avaliações de pessoas usuárias de um serviço da empresa, precisamos verificar se as notas são válidas. Então, escreva um programa que vai receber a nota de 0 a 5 de todos os dados e verificar se é um valor válido. Caso seja inserido uma nota acima de 5 ou abaixo de 0, repita até que a pessoa usuária insira um valor válido."
      ],
      "metadata": {
        "id": "UiOZRlqoJRdR"
      }
    },
    {
      "cell_type": "code",
      "source": [
        "for i in range(15):\n",
        "  valor = 100\n",
        "  while not 0 <= valor <= 5:\n",
        "    valor = float(input(f'Insira aqui a nota do usuário {i} (deve ser entre 0 e 5): '))\n",
        "\n"
      ],
      "metadata": {
        "id": "3TUAhCxcJRdR",
        "colab": {
          "base_uri": "https://localhost:8080/"
        },
        "outputId": "f36ccb0f-6781-4fa3-9153-da5488777e73"
      },
      "execution_count": null,
      "outputs": [
        {
          "name": "stdout",
          "output_type": "stream",
          "text": [
            "Insira aqui a nota do usuário 0 (deve ser entre 0 e 5): 1\n",
            "Insira aqui a nota do usuário 1 (deve ser entre 0 e 5): 2\n",
            "Insira aqui a nota do usuário 2 (deve ser entre 0 e 5): 3\n",
            "Insira aqui a nota do usuário 3 (deve ser entre 0 e 5): 4\n",
            "Insira aqui a nota do usuário 4 (deve ser entre 0 e 5): 5\n",
            "Insira aqui a nota do usuário 5 (deve ser entre 0 e 5): 6\n",
            "Insira aqui a nota do usuário 5 (deve ser entre 0 e 5): -1\n",
            "Insira aqui a nota do usuário 5 (deve ser entre 0 e 5): 1\n",
            "Insira aqui a nota do usuário 6 (deve ser entre 0 e 5): 0\n",
            "Insira aqui a nota do usuário 7 (deve ser entre 0 e 5): 2\n",
            "Insira aqui a nota do usuário 8 (deve ser entre 0 e 5): 3\n",
            "Insira aqui a nota do usuário 9 (deve ser entre 0 e 5): 4\n",
            "Insira aqui a nota do usuário 10 (deve ser entre 0 e 5): 5\n",
            "Insira aqui a nota do usuário 11 (deve ser entre 0 e 5): 0\n",
            "Insira aqui a nota do usuário 12 (deve ser entre 0 e 5): 1\n",
            "Insira aqui a nota do usuário 13 (deve ser entre 0 e 5): 2\n",
            "Insira aqui a nota do usuário 14 (deve ser entre 0 e 5): 3\n"
          ]
        }
      ]
    },
    {
      "cell_type": "markdown",
      "source": [
        "#### Questão 4\n",
        "Desenvolva um programa que leia um conjunto indeterminado de temperaturas em Celsius e faça uma análise. Portanto, escreva um programa que leia temperaturas e informe a média delas. A leitura deve ser encerrada ao ser enviado o valor -273°C."
      ],
      "metadata": {
        "id": "ABv3KObGJRdR"
      }
    },
    {
      "cell_type": "code",
      "source": [
        "# inicializando as variáveis\n",
        "soma = contador = valor = 0\n",
        "\n",
        "# laço que obtém as temperaturas e conta quantas são\n",
        "while True:\n",
        "  valor = float(input('Insira um valor para entrar na média ou -273 para calcular a média: '))\n",
        "  # se a temperatura for diferente de -273, o contador deve ser incrementado e a soma também\n",
        "  if valor != -273:\n",
        "    contador+=1\n",
        "    soma+= valor\n",
        "  else:\n",
        "    break\n",
        "\n",
        "resultado = soma / contador\n",
        "print(f'A média das temperaturas é: {resultado}')"
      ],
      "metadata": {
        "id": "85tBBj5KJRdS",
        "colab": {
          "base_uri": "https://localhost:8080/"
        },
        "outputId": "30135121-5016-4714-f48d-6261edbd0412"
      },
      "execution_count": null,
      "outputs": [
        {
          "output_type": "stream",
          "name": "stdout",
          "text": [
            "Insira um valor para entrar na média ou -273 para calcular a média: 10\n",
            "Insira um valor para entrar na média ou -273 para calcular a média: -10\n",
            "Insira um valor para entrar na média ou -273 para calcular a média: -273\n",
            "A média das temperaturas é: 0.0\n"
          ]
        }
      ]
    },
    {
      "cell_type": "markdown",
      "source": [
        "#### Questão 5\n",
        "Escreva um programa que calcule o fatorial de um número inteiro fornecido pela pessoa usuária. O fatorial de um número inteiro é a multiplicação desse número por todos os seus antecessores até o número 1. Por exemplo, o fatorial de 5 é 5 x 4 x 3 x 2 x 1 = 120."
      ],
      "metadata": {
        "id": "IjkbAfGcJRdS"
      }
    },
    {
      "cell_type": "code",
      "source": [
        "fatorial = 1\n",
        "numero =-1\n",
        "\n",
        "while True:\n",
        "  numero = int(input('Insira o número que gostaria de calcular o fatorial: '))\n",
        "  if numero > 0:\n",
        "    break\n",
        "  else:\n",
        "    print('Insira um valor positivo')\n",
        "\n",
        "for i in range(1, numero+1):\n",
        "  fatorial*= i\n",
        "\n",
        "print(f'O fatorial de {numero} é: {fatorial}')\n"
      ],
      "metadata": {
        "id": "7RTH8o0HJRdS",
        "colab": {
          "base_uri": "https://localhost:8080/"
        },
        "outputId": "5f1da75a-c672-4478-c07e-f68c9230f28a"
      },
      "execution_count": null,
      "outputs": [
        {
          "output_type": "stream",
          "name": "stdout",
          "text": [
            "Insira o número que gostaria de calcular o fatorial: -2\n",
            "Insira um valor positivo\n",
            "Insira o número que gostaria de calcular o fatorial: 6\n",
            "O fatorial de 6 é: 720\n"
          ]
        }
      ]
    },
    {
      "cell_type": "markdown",
      "source": [
        "### Momento dos projetos"
      ],
      "metadata": {
        "id": "oGNKuQjsJRdT"
      }
    },
    {
      "cell_type": "markdown",
      "source": [
        "#### Questão 6\n",
        "Escreva um programa que gere a tabuada de um número inteiro de 1 a 10, de acordo com a escolha da pessoa usuária. Como exemplo, para o número 2, a tabuada deve ser mostrada no seguinte formato:\n",
        "```\n",
        "Tabuada do 2:\n",
        "2 x 1 = 2\n",
        "2 x 2 = 4\n",
        "[...]\n",
        "2 x 10 = 20\n",
        "```"
      ],
      "metadata": {
        "id": "ODxaTUYmJRdS"
      }
    },
    {
      "cell_type": "code",
      "source": [
        "# laço que coleta o valor desejado e verifica se atende a condição de ser um inteiro de 1 a 10\n",
        "while True:\n",
        "  num = int(input('Insira o número inteiro de 1 a 10 para calcular sua tabuada: '))\n",
        "  if 1 <= num <= 10:\n",
        "    break\n",
        "  else:\n",
        "    print('Valor inválido')\n",
        "\n",
        "# printa o cabeçalho da tabuada\n",
        "print(f'Tabuada do {num}:')\n",
        "\n",
        "# laço que calcula todas as linhas da tabuada e ja imprime o resultado\n",
        "for i in range(1, 11):\n",
        "  print(f'{num} x {i} = {num*i}')"
      ],
      "metadata": {
        "id": "lkTlbxPIJRdS",
        "colab": {
          "base_uri": "https://localhost:8080/"
        },
        "outputId": "460cca13-c348-440c-9602-0c8350637b4a"
      },
      "execution_count": null,
      "outputs": [
        {
          "output_type": "stream",
          "name": "stdout",
          "text": [
            "Insira o número inteiro de 1 a 10 para calcular sua tabuada: 0\n",
            "Valor inválido\n",
            "Insira o número inteiro de 1 a 10 para calcular sua tabuada: 8\n",
            "Tabuada do 8:\n",
            "8 x 1 = 8\n",
            "8 x 2 = 16\n",
            "8 x 3 = 24\n",
            "8 x 4 = 32\n",
            "8 x 5 = 40\n",
            "8 x 6 = 48\n",
            "8 x 7 = 56\n",
            "8 x 8 = 64\n",
            "8 x 9 = 72\n",
            "8 x 10 = 80\n"
          ]
        }
      ]
    },
    {
      "cell_type": "markdown",
      "source": [
        "#### Questão 7\n",
        "Os números primos possuem várias aplicações dentro da Ciência de Dados, por exemplo, na criptografia e segurança. Um número primo é aquele que é divisível apenas por um e por ele mesmo. Faça um programa que peça um número inteiro e determine se ele é ou não um número primo."
      ],
      "metadata": {
        "id": "LeIbnt8VJRdS"
      }
    },
    {
      "cell_type": "code",
      "source": [
        "# posso pegar o numero e dividir por todos os anteriores, se nenhum encontrar um resultado inteiro, quer dizer que é um primo\n",
        "# extrair o numero inteiro do prompt\n",
        "num = int(input('Insira o número inteiro para descobrir se é primo ou não: '))\n",
        "primo = True\n",
        "\n",
        "if num > 1:\n",
        "  for i in range(2, num):\n",
        "    if num % i == 0:\n",
        "      primo = False\n",
        "      break\n",
        "else:\n",
        "   primo = False\n",
        "\n",
        "if primo == False:\n",
        "   print('Não é um número primo!')\n",
        "else:\n",
        "  print('É um número primo!')\n",
        "\n"
      ],
      "metadata": {
        "id": "2rcNU7twJRdS",
        "colab": {
          "base_uri": "https://localhost:8080/"
        },
        "outputId": "a7859c9d-8097-46ab-9719-b2742d736ee9"
      },
      "execution_count": null,
      "outputs": [
        {
          "output_type": "stream",
          "name": "stdout",
          "text": [
            "Insira o número inteiro para descobrir se é primo ou não: 101\n",
            "É um número primo!\n"
          ]
        }
      ]
    },
    {
      "cell_type": "markdown",
      "source": [
        "#### Questão 8\n",
        "Vamos entender a distribuição de idades de pensionistas de uma empresa de previdência. Escreva um programa que leia as idades de uma quantidade não informada de clientes e mostre a distribuição em intervalos de [0-25], [26-50], [51-75] e [76-100]. Encerre a entrada de dados com um número negativo."
      ],
      "metadata": {
        "id": "QTwb6QaCJRdT"
      }
    },
    {
      "cell_type": "code",
      "source": [
        "idade = int(input('Informe uma idade ou um número negativo para encerrar: '))\n",
        "\n",
        "faixa1 = faixa2 = faixa3 = faixa4 = 0\n",
        "\n",
        "while idade >= 0:\n",
        "  if idade < 26:\n",
        "    faixa1+=1\n",
        "  elif idade < 51:\n",
        "    faixa2+=1\n",
        "  elif idade < 76:\n",
        "    faixa3+=1\n",
        "  else:\n",
        "    faixa4+=1\n",
        "\n",
        "  idade = int(input('Informe uma idade ou um número negativo para encerrar: '))\n",
        "\n",
        "print(f'Clientes entre de 0-25 anos: {faixa1}')\n",
        "print(f'Clientes entre de 26-50 anos: {faixa2}')\n",
        "print(f'Clientes entre de 51-75 anos: {faixa3}')\n",
        "print(f'Clientes acima de 75 anos: {faixa4}')"
      ],
      "metadata": {
        "id": "4IAhaDmYJRdT",
        "colab": {
          "base_uri": "https://localhost:8080/"
        },
        "outputId": "5d3eee96-47d4-448c-9d17-9ee5e2ad4bcf"
      },
      "execution_count": null,
      "outputs": [
        {
          "output_type": "stream",
          "name": "stdout",
          "text": [
            "Informe uma idade ou um número negativo para encerrar: 10\n",
            "Informe uma idade ou um número negativo para encerrar: 25\n",
            "Informe uma idade ou um número negativo para encerrar: 40\n",
            "Informe uma idade ou um número negativo para encerrar: 50\n",
            "Informe uma idade ou um número negativo para encerrar: 60\n",
            "Informe uma idade ou um número negativo para encerrar: 75\n",
            "Informe uma idade ou um número negativo para encerrar: 80\n",
            "Informe uma idade ou um número negativo para encerrar: -1\n",
            "Clientes entre de 0-25 anos: 2\n",
            "Clientes entre de 26-50 anos: 2\n",
            "Clientes entre de 51-75 anos: 2\n",
            "Clientes acima de 75 anos: 1\n"
          ]
        }
      ]
    },
    {
      "cell_type": "markdown",
      "source": [
        "#### Questão 9\n",
        "Em uma eleição para gerência em uma empresa com 20 funcionários, existem quatro candidatos. Escreva um programa que calcule o vencedor da eleição. A votação ocorreu da seguinte maneira:\n",
        "- Cada funcionário votou em um dos quatro candidatos (representados pelos números 1, 2, 3 e 4).\n",
        "- Também foram contabilizados os votos nulos (representado pelo número 5) e os votos em branco (representado pelo número 6).\n",
        "\n",
        "Ao final da votação, o programa deve exibir o total de votos para cada candidato, o número de votos nulos e o número de votos em branco. Além disso, deve calcular e exibir a porcentagem de votos nulos em relação ao total de votos e a porcentagem de votos em branco em relação ao total de votos."
      ],
      "metadata": {
        "id": "soJCQVwRJRdT"
      }
    },
    {
      "cell_type": "code",
      "source": [
        "cand1 = cand2 = cand3 = cand4 = nulo = branco = 0\n",
        "total = 0\n",
        "\n",
        "while total < 20:\n",
        "  voto = int(input('Escolha um candidato (1, 2, 3, 4), vote nulo (5), ou vote branco (6): '))\n",
        "  total+=1\n",
        "  if voto == 1:\n",
        "    cand1+=1\n",
        "  elif voto == 2:\n",
        "    cand2+=1\n",
        "  elif voto == 3:\n",
        "    cand3+=1\n",
        "  elif voto == 4:\n",
        "    cand4+=1\n",
        "  elif voto == 5:\n",
        "    nulo+=1\n",
        "  elif voto == 6:\n",
        "    branco+=1\n",
        "  else:\n",
        "    print('Tente novamente, com um valor válido desta vez')\n",
        "    total-=1\n",
        "\n",
        "print('Contagem dos votos: ')\n",
        "print(f'Votos para o candidato 1: {cand1}')\n",
        "print(f'Votos para o candidato 2: {cand2}')\n",
        "print(f'Votos para o candidato 3: {cand3}')\n",
        "print(f'Votos para o candidato 4: {cand4}')\n",
        "print(f'Votos nulos: {nulo}')\n",
        "print(f'Votos em branco: {branco}')\n",
        "\n",
        "if cand1 > cand2 and cand1 > cand3 and cand1 > cand4:\n",
        "  print('O vencedor foi o candidato 1')\n",
        "elif cand2 > cand1 and cand2 > cand3 and cand2 > cand4:\n",
        "  print('O vencedor foi o candidato 2')\n",
        "elif cand3 > cand1 and cand3 > cand2 and cand3 > cand4:\n",
        "  print('O vencedor foi o candidato 3')\n",
        "elif cand4 > cand1 and cand4 > cand2 and cand4 > cand3:\n",
        "  print('O vencedor foi o candidato 4')\n",
        "else:\n",
        "  print('Houve empate!')\n",
        "\n",
        "print(f'Porcentagem de votos em branco: {(branco/20)*100}%')\n",
        "print(f'Porcentagem de votos nulos: {(nulo/20)*100}%')"
      ],
      "metadata": {
        "id": "041EFrgG-4gR",
        "colab": {
          "base_uri": "https://localhost:8080/"
        },
        "outputId": "c2e53792-4a53-420b-d3bd-74a0c8d05278"
      },
      "execution_count": null,
      "outputs": [
        {
          "output_type": "stream",
          "name": "stdout",
          "text": [
            "Escolha um candidato (1, 2, 3, 4), vote nulo (5), ou vote branco (6): 1\n",
            "Escolha um candidato (1, 2, 3, 4), vote nulo (5), ou vote branco (6): 2\n",
            "Escolha um candidato (1, 2, 3, 4), vote nulo (5), ou vote branco (6): 1\n",
            "Escolha um candidato (1, 2, 3, 4), vote nulo (5), ou vote branco (6): 2\n",
            "Escolha um candidato (1, 2, 3, 4), vote nulo (5), ou vote branco (6): 1\n",
            "Escolha um candidato (1, 2, 3, 4), vote nulo (5), ou vote branco (6): 2\n",
            "Escolha um candidato (1, 2, 3, 4), vote nulo (5), ou vote branco (6): 3\n",
            "Escolha um candidato (1, 2, 3, 4), vote nulo (5), ou vote branco (6): 3\n",
            "Escolha um candidato (1, 2, 3, 4), vote nulo (5), ou vote branco (6): 3\n",
            "Escolha um candidato (1, 2, 3, 4), vote nulo (5), ou vote branco (6): 3\n",
            "Escolha um candidato (1, 2, 3, 4), vote nulo (5), ou vote branco (6): 4\n",
            "Escolha um candidato (1, 2, 3, 4), vote nulo (5), ou vote branco (6): 4\n",
            "Escolha um candidato (1, 2, 3, 4), vote nulo (5), ou vote branco (6): 4\n",
            "Escolha um candidato (1, 2, 3, 4), vote nulo (5), ou vote branco (6): 4\n",
            "Escolha um candidato (1, 2, 3, 4), vote nulo (5), ou vote branco (6): 5\n",
            "Escolha um candidato (1, 2, 3, 4), vote nulo (5), ou vote branco (6): 5\n",
            "Escolha um candidato (1, 2, 3, 4), vote nulo (5), ou vote branco (6): 6\n",
            "Escolha um candidato (1, 2, 3, 4), vote nulo (5), ou vote branco (6): 6\n",
            "Escolha um candidato (1, 2, 3, 4), vote nulo (5), ou vote branco (6): 5\n",
            "Escolha um candidato (1, 2, 3, 4), vote nulo (5), ou vote branco (6): 5\n",
            "Contagem dos votos: \n",
            "Votos para o candidato 1: 3\n",
            "Votos para o candidato 2: 3\n",
            "Votos para o candidato 3: 4\n",
            "Votos para o candidato 4: 4\n",
            "Votos nulos: 4\n",
            "Votos em branco: 2\n",
            "Houve empate!\n",
            "Porcentagem de votos em branco: 10.0%\n",
            "Porcentagem de votos nulos: 20.0%\n"
          ]
        }
      ]
    },
    {
      "cell_type": "markdown",
      "source": [
        "## Aula 5 - Estruturas de dados"
      ],
      "metadata": {
        "id": "eijHQiNU2IZ7"
      }
    },
    {
      "cell_type": "markdown",
      "source": [
        "### Aquecendo na programação"
      ],
      "metadata": {
        "id": "92F0bKtBMgd7"
      }
    },
    {
      "cell_type": "markdown",
      "source": [
        "#### Questão 1\n",
        "Faça um programa que tenha a seguinte lista contendo os valores de gastos de uma empresa de papel `[2172.54, 3701.35, 3518.09, 3456.61, 3249.38, 2840.82, 3891.45, 3075.26, 2317.64, 3219.08]`. Com esses valores, faça um programa que calcule a média de gastos. Dica, use as funções built-in [`sum()`](https://docs.python.org/3/library/functions.html#sum) e [`len()`](https://docs.python.org/3/library/functions.html#len)."
      ],
      "metadata": {
        "id": "IypX2ANuMgeC"
      }
    },
    {
      "cell_type": "code",
      "source": [
        "gastos = [2172.54, 3701.35, 3518.09, 3456.61, 3249.38, 2840.82, 3891.45, 3075.26, 2317.64, 3219.08]\n",
        "\n",
        "total = sum(gastos)\n",
        "quantidade = len(gastos)\n",
        "\n",
        "media = total/quantidade\n",
        "\n",
        "print(f'A média de gastos da empresa é: R${media}')"
      ],
      "metadata": {
        "id": "ge3LuFhLMgeD",
        "colab": {
          "base_uri": "https://localhost:8080/"
        },
        "outputId": "4eea1180-dd35-454a-c245-e777b2fd1e86"
      },
      "execution_count": null,
      "outputs": [
        {
          "output_type": "stream",
          "name": "stdout",
          "text": [
            "A média de gastos da empresa é: R$3144.222\n"
          ]
        }
      ]
    },
    {
      "cell_type": "markdown",
      "source": [
        "#### Questão 2\n",
        " Com os mesmos dados da questão anterior, defina quantas compras foram acima de 3000 reais e calcule a porcentagem quanto ao total de compras."
      ],
      "metadata": {
        "id": "xrOeLhQkMgeD"
      }
    },
    {
      "cell_type": "code",
      "source": [
        "gastos = [2172.54, 3701.35, 3518.09, 3456.61, 3249.38, 2840.82, 3891.45, 3075.26, 2317.64, 3219.08]\n",
        "contador = 0\n",
        "\n",
        "for valor in gastos:\n",
        "  if valor > 3000:\n",
        "    contador+=1\n",
        "\n",
        "porcentagem = (contador / len(gastos))*100\n",
        "\n",
        "print(f'A porcentagem de compras acima de 3 mil reais é de {porcentagem}%')"
      ],
      "metadata": {
        "id": "Ygu5TMZyMgeD",
        "colab": {
          "base_uri": "https://localhost:8080/"
        },
        "outputId": "d8dad416-6c19-41d0-fb66-46a1f0497890"
      },
      "execution_count": null,
      "outputs": [
        {
          "output_type": "stream",
          "name": "stdout",
          "text": [
            "A porcentagem de compras acima de 3 mil reais é de 70.0%\n"
          ]
        }
      ]
    },
    {
      "cell_type": "markdown",
      "source": [
        "#### Questão 3\n",
        "Faça um código que colete em uma lista 5 números inteiros quaisquer e imprima a lista. Exemplo: `[1,4,7,2,4]`."
      ],
      "metadata": {
        "id": "JgCOrE_BMgeD"
      }
    },
    {
      "cell_type": "code",
      "source": [
        "lista = []\n",
        "\n",
        "for i in range(5):\n",
        "  valor = int(input('Insira um valor inteiro: '))\n",
        "  lista.append(valor)\n",
        "\n",
        "print(f'Lista de números inseridos: {lista}')"
      ],
      "metadata": {
        "id": "vtM9O1hLMgeD",
        "colab": {
          "base_uri": "https://localhost:8080/"
        },
        "outputId": "63cee696-cdc3-46a1-b0be-46420409bcfd"
      },
      "execution_count": null,
      "outputs": [
        {
          "output_type": "stream",
          "name": "stdout",
          "text": [
            "Insira um valor inteiro: 5\n",
            "Insira um valor inteiro: 10\n",
            "Insira um valor inteiro: 15\n",
            "Insira um valor inteiro: 20\n",
            "Insira um valor inteiro: 25\n",
            "Lista de números inseridos: [5, 10, 15, 20, 25]\n"
          ]
        }
      ]
    },
    {
      "cell_type": "markdown",
      "source": [
        "#### Questão 4\n",
        "Colete novamente 5 inteiros e imprima a lista em ordem inversa à enviada."
      ],
      "metadata": {
        "id": "p3bTp88HMgeD"
      }
    },
    {
      "cell_type": "code",
      "source": [
        "lista = []\n",
        "\n",
        "for i in range(5):\n",
        "  valor = int(input('Insira um valor inteiro: '))\n",
        "  lista.insert(0, valor)\n",
        "\n",
        "print(f'Lista de números inseridos, na ordem inversa: {lista}')"
      ],
      "metadata": {
        "id": "-CGwMIyHMgeD",
        "colab": {
          "base_uri": "https://localhost:8080/"
        },
        "outputId": "5416e6d3-884d-4502-be0e-901183d6d151"
      },
      "execution_count": null,
      "outputs": [
        {
          "output_type": "stream",
          "name": "stdout",
          "text": [
            "Insira um valor inteiro: 5\n",
            "Insira um valor inteiro: 10\n",
            "Insira um valor inteiro: 15\n",
            "Insira um valor inteiro: 20\n",
            "Insira um valor inteiro: 25\n",
            "Lista de números inseridos: [25, 20, 15, 10, 5]\n"
          ]
        }
      ]
    },
    {
      "cell_type": "markdown",
      "source": [
        "#### Questão 5\n",
        "Faça um programa que, ao inserir um número qualquer, criará uma lista contendo todos os números primos entre 1 e o número digitado."
      ],
      "metadata": {
        "id": "eIXd_z1lMgeD"
      }
    },
    {
      "cell_type": "code",
      "source": [
        "# pegar o limite superior\n",
        "limite = int(input('Insira o número inteiro para descobrir todos os primos até ele: '))\n",
        "\n",
        "# inicializa o vetor que conterá os números primos\n",
        "primos = []\n",
        "\n",
        "# itera sobre todos os numeros anteriores ao limite (sem contar o 0 e o 1 pois não são primos)\n",
        "for num in range(2, limite):\n",
        "  # inicializa a flag primo\n",
        "  primo = True\n",
        "\n",
        "  # testa se o número é primo, busca por divisores\n",
        "  for i in range(2, num):\n",
        "    # se encontrar um divisor, é falso, e para de tentar encontrar divisores\n",
        "    if num % i == 0:\n",
        "      primo = False\n",
        "      break\n",
        "\n",
        "  # se não for primo, vai para o próximo numero\n",
        "  if primo == False:\n",
        "    continue\n",
        "  # se for primo, adiciona no final da lista de números primos\n",
        "  else:\n",
        "    primos.append(num)\n",
        "\n",
        "# imprime o resultado obtido\n",
        "print(f'Esses são todos os números primos até o número {limite}: {primos}')"
      ],
      "metadata": {
        "id": "rj_6GHstMgeE",
        "colab": {
          "base_uri": "https://localhost:8080/"
        },
        "outputId": "b7413210-fefe-4b4d-875f-1460c2e61857"
      },
      "execution_count": null,
      "outputs": [
        {
          "output_type": "stream",
          "name": "stdout",
          "text": [
            "Insira o número inteiro para descobrir todos os primos até ele: 100\n",
            "Esses são todos os números primos até o número 100: [2, 3, 5, 7, 11, 13, 17, 19, 23, 29, 31, 37, 41, 43, 47, 53, 59, 61, 67, 71, 73, 79, 83, 89, 97]\n"
          ]
        }
      ]
    },
    {
      "cell_type": "markdown",
      "source": [
        "#### Questão 6\n",
        "Escreva um programa que peça uma data informando o dia, mês e ano e determine se ela é uma data válida para uma análise."
      ],
      "metadata": {
        "id": "zrbz3ENlMgeE"
      }
    },
    {
      "cell_type": "code",
      "source": [
        "dia = int(input('Insira o dia: '))\n",
        "mes = int(input('Insira o mês: '))\n",
        "ano = int(input('Insira o ano: '))\n",
        "\n",
        "# verifica se a data é em fevereiro\n",
        "if mes == 2:\n",
        "  # se é fevereiro, é necessário verificar se o ano é bissexto\n",
        "  if ano%4 == 0:\n",
        "    # testa para ver se a data é valida para anos bissextos\n",
        "    if 0 < dia < 30:\n",
        "      print('Data Válida!')\n",
        "    else:\n",
        "      print('Dada Inválida!')\n",
        "  # testa para ver se a data é valida para anos não bissextos\n",
        "  else:\n",
        "    if 0 < dia < 29:\n",
        "      print('Data Válida!')\n",
        "    else:\n",
        "      print('Dada Inválida!')\n",
        "\n",
        "# vê se o mês está entre aqueles que possuem 31 dias e testa se o dia é coerente\n",
        "elif mes in [1,3,5,7,8,10,12]:\n",
        "  if 0 < dia < 32:\n",
        "    print('Data Válida!')\n",
        "  else:\n",
        "    print('Dada Inválida!')\n",
        "\n",
        "# vê se o mês está entre aqueles que possuem 30 dias e testa se o dia é coerente\n",
        "elif mes in [4,6,9,11]:\n",
        "  if 0 < dia < 31:\n",
        "    print('Data Válida!')\n",
        "  else:\n",
        "    print('Dada Inválida!')\n",
        "\n",
        "else:\n",
        "  print('Dada Inválida!')"
      ],
      "metadata": {
        "id": "0eYA8UjTMgeE",
        "colab": {
          "base_uri": "https://localhost:8080/"
        },
        "outputId": "8fba66b7-3b34-4bf1-ab3e-edece57e46ea"
      },
      "execution_count": null,
      "outputs": [
        {
          "output_type": "stream",
          "name": "stdout",
          "text": [
            "Insira o dia: 31\n",
            "Insira o mês: 4\n",
            "Insira o ano: 2023\n",
            "Dada Inválida!\n"
          ]
        }
      ]
    },
    {
      "cell_type": "markdown",
      "source": [
        "### Momento dos projetos"
      ],
      "metadata": {
        "id": "ut_4VHdGMgeE"
      }
    },
    {
      "cell_type": "markdown",
      "source": [
        "#### Questão 7\n",
        "Para um estudo envolvendo o nível de multiplicação de bactérias em uma colônia, foi coletado o número de bactérias multiplicadas por dia, com base em um processo de duplicação diária e pode ser observado a seguir: `[1.2, 2.1, 3.3, 5.0, 7.8, 11.3, 16.6, 25.1, 37.8, 56.9]`. Tendo esses valores, faça um código que gere uma lista contendo o percentual de crescimento de bactérias por dia, comparando o número de bactérias em cada dia com o número de bactérias do dia anterior. Dica: para calcular o percentual de crescimento usamos a seguinte equação: `100 * (amostra_atual - amostra_passada) / (amostra_passada)`."
      ],
      "metadata": {
        "id": "G86Z0vD_MgeE"
      }
    },
    {
      "cell_type": "code",
      "source": [
        "crescimento = [1.2, 2.1, 3.3, 5.0, 7.8, 11.3, 16.6, 25.1, 37.8, 56.9]\n",
        "percentuais = []\n",
        "\n",
        "for i in range(1, len(crescimento)):\n",
        "  percentual = 100 * (crescimento[i] - crescimento[i-1]) / (crescimento[i-1])\n",
        "  percentuais.append(percentual)\n",
        "\n",
        "print(f'Esses foram os percentuais de crescsimento diáio: \\n{percentuais}')"
      ],
      "metadata": {
        "id": "PXNO_CFkMgeE",
        "colab": {
          "base_uri": "https://localhost:8080/"
        },
        "outputId": "89541839-b025-4fac-934a-0acd3bca67cc"
      },
      "execution_count": null,
      "outputs": [
        {
          "output_type": "stream",
          "name": "stdout",
          "text": [
            "Esses foram os percentuais de crescsimento diáio: \n",
            "[75.00000000000001, 57.142857142857125, 51.51515151515153, 56.0, 44.87179487179489, 46.90265486725664, 51.20481927710843, 50.59760956175297, 50.52910052910054]\n"
          ]
        }
      ]
    },
    {
      "cell_type": "markdown",
      "source": [
        "#### Questão 8\n",
        "Para uma seleção de produtos alimentícios, precisamos separar o conjunto de IDs dados por números inteiros, sabendo que os produtos com ID par são doces e os com ID ímpar são amargos. Monte um código que colete 10 IDs. Depois, calcule e mostre a quantidade de produtos doces e amargos."
      ],
      "metadata": {
        "id": "p4nxogpnMgeE"
      }
    },
    {
      "cell_type": "code",
      "source": [
        "ids = []\n",
        "doces = amargos = 0\n",
        "\n",
        "for i in range(10):\n",
        "  valor = int(input('Insira um ID inteiro: '))\n",
        "  ids.insert(0, valor)\n",
        "\n",
        "for ID in ids:\n",
        "  if ID % 2 == 0:\n",
        "    doces+=1\n",
        "  else:\n",
        "    amargos+=1\n",
        "\n",
        "print(f'A quantidade de produtos doces é de: {doces}')\n",
        "print(f'A quantidade de produtos amargos é de: {amargos}')"
      ],
      "metadata": {
        "id": "WqjO2SZkMgeE",
        "colab": {
          "base_uri": "https://localhost:8080/"
        },
        "outputId": "f767f70c-b6af-4794-9e4b-db574d5c9cd2"
      },
      "execution_count": null,
      "outputs": [
        {
          "output_type": "stream",
          "name": "stdout",
          "text": [
            "Insira um ID inteiro: 5\n",
            "Insira um ID inteiro: 10\n",
            "Insira um ID inteiro: 5\n",
            "Insira um ID inteiro: 10\n",
            "Insira um ID inteiro: 5\n",
            "Insira um ID inteiro: 10\n",
            "Insira um ID inteiro: 5\n",
            "Insira um ID inteiro: 10\n",
            "Insira um ID inteiro: 5\n",
            "Insira um ID inteiro: 10\n",
            "A quantidade de produtos doces é de: 5\n",
            "A quantidade de produtos amargos é de: 5\n"
          ]
        }
      ]
    },
    {
      "cell_type": "markdown",
      "source": [
        "#### Questão 9\n",
        "Desenvolva um programa que informa a nota de um aluno de acordo com suas respostas. Ele deve pedir a resposta de um aluno para cada questão e é preciso verificar se a resposta foi igual ao gabarito. Cada questão vale um ponto e existem alternativas:  A, B, C ou D.\n",
        "```\n",
        "Gabarito da Prova:\n",
        "01 - D\n",
        "02 - A\n",
        "03 - C\n",
        "04 - B\n",
        "05 - A\n",
        "06 - D\n",
        "07 - C\n",
        "08 - C\n",
        "09 - A\n",
        "10 - B\n",
        "```"
      ],
      "metadata": {
        "id": "t5OrLxV6MgeE"
      }
    },
    {
      "cell_type": "code",
      "source": [
        "prova_aluno = []\n",
        "alternativas = 'ABCD'\n",
        "gabarito = ['D','A','C','B','A','D','C','C','A','B']\n",
        "nota = 0\n",
        "\n",
        "for i in range(1, 11):\n",
        "  resposta = ' '\n",
        "  while resposta not in alternativas:\n",
        "    resposta = input(f'Insira a sua resposta para a questão {i}: ').upper()\n",
        "\n",
        "  prova_aluno.append(resposta)\n",
        "\n",
        "for i in range(10):\n",
        "  if prova_aluno[i] == gabarito[i]:\n",
        "    nota+= 1\n",
        "\n",
        "print(f'A nota do aluno foi: {nota}')"
      ],
      "metadata": {
        "id": "ytIQDJrQMgeE",
        "colab": {
          "base_uri": "https://localhost:8080/"
        },
        "outputId": "bab3bbfe-8c8f-4560-e4e9-9539144036a6"
      },
      "execution_count": null,
      "outputs": [
        {
          "output_type": "stream",
          "name": "stdout",
          "text": [
            "Insira a sua resposta para a questão 1: d\n",
            "Insira a sua resposta para a questão 2: a\n",
            "Insira a sua resposta para a questão 3: c\n",
            "Insira a sua resposta para a questão 4: b\n",
            "Insira a sua resposta para a questão 5: a\n",
            "Insira a sua resposta para a questão 6: d\n",
            "Insira a sua resposta para a questão 7: c\n",
            "Insira a sua resposta para a questão 8: c\n",
            "Insira a sua resposta para a questão 9: a\n",
            "Insira a sua resposta para a questão 10: b\n",
            "A nota do aluno foi: 10\n"
          ]
        }
      ]
    },
    {
      "cell_type": "markdown",
      "source": [
        "#### Questão 10\n",
        "Um instituto de meteorologia deseja fazer um estudo de temperatura média de cada mês do ano. Para isso, você precisa fazer um código que colete e armazene essas temperaturas médias em uma lista. Depois, calcule a média anual das temperaturas e mostre todas as temperaturas acima da média anual, e em que mês elas ocorreram, mostrando os meses por extenso: Janeiro, Fevereiro, etc."
      ],
      "metadata": {
        "id": "aSBMzh-AMgeF"
      }
    },
    {
      "cell_type": "code",
      "source": [
        "meses = ['Janeiro', 'Fevereiro', 'Março', 'Abril', 'Maio', 'Junho', 'Julho', 'Agosto', 'Setembro', 'Outubro', 'Novembro', 'Dezembro']\n",
        "temperaturas = []\n",
        "\n",
        "for i in meses:\n",
        "  temperatura = float(input(f'Insira a temperatura média de {i}: '))\n",
        "  temperaturas.append(temperatura)\n",
        "\n",
        "media_anual = sum(temperaturas) / len(temperaturas)\n",
        "\n",
        "print(f'\\n A média anual é de {media_anual} \\n')\n",
        "\n",
        "print('Temperaturas acima da média anual: ')\n",
        "\n",
        "for i in range(len(temperaturas)):\n",
        "  if temperaturas[i] > media_anual:\n",
        "    print(f'A média {temperaturas[i]} é acima da média anual e ocorreu no mês {meses[i]}')"
      ],
      "metadata": {
        "id": "ftj04s2uMgeF",
        "colab": {
          "base_uri": "https://localhost:8080/"
        },
        "outputId": "09a155c1-de53-4883-c930-8e87177a36ec"
      },
      "execution_count": null,
      "outputs": [
        {
          "output_type": "stream",
          "name": "stdout",
          "text": [
            "Insira a temperatura média de Janeiro: 21\n",
            "Insira a temperatura média de Fevereiro: 22\n",
            "Insira a temperatura média de Março: 23\n",
            "Insira a temperatura média de Abril: 24\n",
            "Insira a temperatura média de Maio: 25\n",
            "Insira a temperatura média de Junho: 26\n",
            "Insira a temperatura média de Julho: 27\n",
            "Insira a temperatura média de Agosto: 28\n",
            "Insira a temperatura média de Setembro: 29\n",
            "Insira a temperatura média de Outubro: 30\n",
            "Insira a temperatura média de Novembro: 31\n",
            "Insira a temperatura média de Dezembro: 32\n",
            "\n",
            " A média anual é de 26.5 \n",
            "\n",
            "Temperaturas acima da média anual: \n",
            "A média 27.0 é acima da média anual e ocorreu no mês Julho\n",
            "A média 28.0 é acima da média anual e ocorreu no mês Agosto\n",
            "A média 29.0 é acima da média anual e ocorreu no mês Setembro\n",
            "A média 30.0 é acima da média anual e ocorreu no mês Outubro\n",
            "A média 31.0 é acima da média anual e ocorreu no mês Novembro\n",
            "A média 32.0 é acima da média anual e ocorreu no mês Dezembro\n"
          ]
        }
      ]
    },
    {
      "cell_type": "markdown",
      "source": [
        "#### Questão 11\n",
        "Uma empresa de e-commerce está interessada em analisar as vendas dos seus produtos. Os dados das vendas foram armazenados em um dicionário:\n",
        "```\n",
        "{'Produto A': 300, 'Produto B': 80, 'Produto C': 60,\n",
        " 'Produto D': 200, 'Produto E': 250, 'Produto F': 30}\n",
        "```\n",
        "Escreva um código que calcule o total de vendas e o produto mais vendido."
      ],
      "metadata": {
        "id": "0X8S6s4jMgeF"
      }
    },
    {
      "cell_type": "code",
      "source": [
        "vendas = {'Produto A': 300, 'Produto B': 80, 'Produto C': 60,\n",
        "          'Produto D': 200, 'Produto E': 250, 'Produto F': 30}\n",
        "\n",
        "total = maior = 0\n",
        "\n",
        "for chaves in vendas.keys():\n",
        "  if vendas[chaves] > maior:\n",
        "    chave_maior = chaves\n",
        "    maior = vendas[chaves]\n",
        "\n",
        "  total += vendas[chaves]\n",
        "\n",
        "print(f'O total de vendas foi: {total}')\n",
        "print(f'A o produto mais vendido foi o {chave_maior}, que obteve {maior} vendas.')"
      ],
      "metadata": {
        "id": "Xa3DJLtFMgeF",
        "colab": {
          "base_uri": "https://localhost:8080/"
        },
        "outputId": "96d560cb-4ff0-4438-a9c0-a9f7f3c8f8c8"
      },
      "execution_count": null,
      "outputs": [
        {
          "output_type": "stream",
          "name": "stdout",
          "text": [
            "O total de vendas foi: 920\n",
            "A o produto mais vendido foi o Produto A, que obteve 300 vendas.\n"
          ]
        }
      ]
    },
    {
      "cell_type": "markdown",
      "source": [
        "#### Questão 12\n",
        "Uma pesquisa de mercado foi feita para decidir qual design de uma marca infantil mais agrada crianças. A pesquisa foi feita e o votos computados podem ser observados abaixo:\n",
        "```\n",
        "'''\n",
        "Tabela de votos da marca\n",
        "Design 1 - 1334 votos\n",
        "Design 2 - 982 votos\n",
        "Design 3 - 1751 votos\n",
        "Design 4 - 210 votos\n",
        "Design 5 - 1811 votos\n",
        "'''\n",
        "```\n",
        "Adapte os dados fornecidos a você para uma estrutura de dicionário e a partir dele, informe o design vencedor e a porcentagem de votos recebidos.\n"
      ],
      "metadata": {
        "id": "nrEwf_1ZMgeF"
      }
    },
    {
      "cell_type": "code",
      "source": [
        "votacao = {'Design 1':1334, 'Design 2':982, 'Design 3':1751, 'Design 4':210, 'Design 5':1811}\n",
        "\n",
        "votos_vencedor = total = 0\n",
        "\n",
        "for designs in votacao.keys():\n",
        "  if votacao[designs] > votos_vencedor:\n",
        "    votos_vencedor = votacao[designs]\n",
        "    vencedor = designs\n",
        "\n",
        "  total += votacao[designs]\n",
        "\n",
        "porcentagem_vencedor = 100 * (votos_vencedor / total)\n",
        "\n",
        "print(f'O vencedor foi {vencedor} com uma porcentagem de {porcentagem_vencedor} dos votos')"
      ],
      "metadata": {
        "id": "MRPcGR-_MgeF",
        "colab": {
          "base_uri": "https://localhost:8080/"
        },
        "outputId": "a0009fa6-5ea2-4412-b94f-0ff970a78c6c"
      },
      "execution_count": null,
      "outputs": [
        {
          "output_type": "stream",
          "name": "stdout",
          "text": [
            "O vencedor foi Design 5 com uma porcentagem de 29.747043363994745 dos votos\n"
          ]
        }
      ]
    },
    {
      "cell_type": "markdown",
      "source": [
        "#### Questão 13\n",
        "Os funcionários de um setor da empresa que você trabalha vão receber um abono correspondente a 10% do seu salário devido ao ótimo desempenho do time. O setor financeiro solicitou sua ajuda para a verificação das consequências financeiras que esse abono irá gerar nos recursos. Assim, foi encaminhada para você uma lista com os salários que receberão o abono: `[1172, 1644, 2617, 5130, 5532, 6341, 6650, 7238, 7685, 7782, 7903]`. O abono de cada funcionário não pode ser inferior a 200. Em código, transforme cada um dos salários em chaves de um dicionário e o abono de cada salário no elemento. Depois, informe o total de gastos com o abono, quantos funcionários receberam o abono mínimo e qual o maior valor de abono fornecido.\n"
      ],
      "metadata": {
        "id": "HRTFFzKIMgeF"
      }
    },
    {
      "cell_type": "code",
      "source": [
        "salarios = [1172, 1644, 2617, 5130, 5532, 6341, 6650, 7238, 7685, 7782, 7903]\n",
        "abonos = {}\n",
        "\n",
        "for salario in salarios:\n",
        "  if salario*0.1 < 200:\n",
        "    abonos[salario] = 200\n",
        "  else:\n",
        "    abonos[salario] = salario*0.1\n",
        "\n",
        "abonos_minimos = total = maior_valor = 0\n",
        "\n",
        "for salario in abonos.keys():\n",
        "  total += abonos[salario]\n",
        "  if abonos[salario] == 200:\n",
        "    abonos_minimos += 1\n",
        "  if abonos[salario] > maior_valor:\n",
        "    maior_valor = abonos[salario]\n",
        "\n",
        "print(f'O total gasto em abonos é de: {total}')\n",
        "print(f'A quantidade de fúncionários que receberam abono mínimo é de: {abonos_minimos}')\n",
        "print(f'O maior abono foi no valor de {maior_valor:.2f} reais')\n"
      ],
      "metadata": {
        "id": "QsDSCua42bLB",
        "colab": {
          "base_uri": "https://localhost:8080/"
        },
        "outputId": "6015b7f5-dbbf-49e3-ef61-47a2d9614923"
      },
      "execution_count": null,
      "outputs": [
        {
          "output_type": "stream",
          "name": "stdout",
          "text": [
            "O total gasto em abonos é de: 6087.8\n",
            "A quantidade de fúncionários que receberam abono mínimo é de: 2\n",
            "O maior abono foi no valor de 790.30 reais\n"
          ]
        }
      ]
    },
    {
      "cell_type": "markdown",
      "source": [
        "#### Questão 14\n",
        "Uma equipe de cientistas de dados está estudando a diversidade biológica em uma floresta. A equipe fez a coleta de informações sobre o número de espécies de plantas e animais em cada área da floresta e armazenaram essas informações em um dicionário. Nele, a chave descreve a área dos dados e os valores nas listas correspondem às espécies de plantas e animais nas áreas, respectivamente.\n",
        "```\n",
        "{'Área Norte': [2819, 7236],\n",
        " 'Área Leste': [1440, 9492],\n",
        " 'Área Sul': [5969, 7496],\n",
        " 'Área Oeste': [14446, 49688],\n",
        " 'Área Centro': [22558, 45148]}\n",
        "```\n",
        "Escreva um código para calcular a média de espécies por área e identificar a área com a maior diversidade biológica. Dica: use as funções built-in [`sum()`](https://docs.python.org/3/library/functions.html#sum) e [`len()`](https://docs.python.org/3/library/functions.html#len).\n"
      ],
      "metadata": {
        "id": "6dEXZEwjMlWy"
      }
    },
    {
      "cell_type": "code",
      "source": [
        "# inicializa o dicionario\n",
        "areas = {'Área Norte': [2819, 7236], 'Área Leste': [1440, 9492], 'Área Sul': [5969, 7496], 'Área Oeste': [14446, 49688], 'Área Centro': [22558, 45148]}\n",
        "# cria o vetor para as médias\n",
        "medias = []\n",
        "maior_diversidade = 0\n",
        "\n",
        "# para cada chave no dicionario, calcula a média e vê se é o que possui a maior diversidade\n",
        "for chave in areas.keys():\n",
        "  diversidade = sum(areas[chave])\n",
        "  media_area = diversidade / len(areas[chave])\n",
        "\n",
        "  if diversidade > maior_diversidade:\n",
        "    maior_diversidade = diversidade\n",
        "    area_com_mais_diversidade = chave\n",
        "\n",
        "  # imprime a média da área\n",
        "  print(f'A média de diverdidade da {chave} é de: {media_area}')\n",
        "\n",
        "  # coloca a média da área em uma lista de médias\n",
        "  medias.append(media_area)\n",
        "\n",
        "# calcula a média das médias\n",
        "media_das_medias = sum(medias) / len(medias)\n",
        "\n",
        "print(f'A média geral é de: {media_das_medias}')\n",
        "print(f'A área com a maior diversidade é a {area_com_mais_diversidade}')"
      ],
      "metadata": {
        "id": "eQnOUDfYMlWy",
        "colab": {
          "base_uri": "https://localhost:8080/"
        },
        "outputId": "26476c8d-2245-4de7-beb4-5d6075b17d19"
      },
      "execution_count": null,
      "outputs": [
        {
          "output_type": "stream",
          "name": "stdout",
          "text": [
            "A média de diverdidade da Área Norte é de: 5027.5\n",
            "A média de diverdidade da Área Leste é de: 5466.0\n",
            "A média de diverdidade da Área Sul é de: 6732.5\n",
            "A média de diverdidade da Área Oeste é de: 32067.0\n",
            "A média de diverdidade da Área Centro é de: 33853.0\n",
            "A média geral é de: 16629.2\n",
            "A área com a maior diversidade é a Área Centro\n"
          ]
        }
      ]
    },
    {
      "cell_type": "markdown",
      "source": [
        "#### Questão 15\n",
        "O setor de RH da sua empresa te pediu uma ajuda para analisar as idades dos funcionários de 4 setores da empresa. Para isso, ele te forneceu os seguintes dados:\n",
        "```\n",
        "{'Setor A': [22, 26, 30, 30, 35, 38, 40, 56, 57, 65],\n",
        " 'Setor B': [22, 24, 26, 33, 41, 49, 50, 54, 60, 64],\n",
        " 'Setor C': [23, 26, 26, 29, 34, 35, 36, 41, 52, 56],\n",
        " 'Setor D': [19, 20, 25, 27, 34, 39, 42, 44, 50, 65]}\n",
        "```\n",
        "Sabendo que cada setor tem 10 funcionários, construa um código que calcule a média de idade de cada setor, a idade média geral entre todos os setores e quantas pessoas estão acima da idade média geral.\n"
      ],
      "metadata": {
        "id": "r0RW2Sy_MlWy"
      }
    },
    {
      "cell_type": "code",
      "source": [
        "# inicializa o dicionário\n",
        "idades = {'Setor A': [22, 26, 30, 30, 35, 38, 40, 56, 57, 65],\n",
        "          'Setor B': [22, 24, 26, 33, 41, 49, 50, 54, 60, 64],\n",
        "          'Setor C': [23, 26, 26, 29, 34, 35, 36, 41, 52, 56],\n",
        "          'Setor D': [19, 20, 25, 27, 34, 39, 42, 44, 50, 65]}\n",
        "\n",
        "# cria uma lista para guardar as médias dos setores\n",
        "medias = []\n",
        "\n",
        "soma_total = maiores_que_media = 0\n",
        "\n",
        "# para cada setor, calcula a média e coloca ela no vetor de medias\n",
        "for setor in idades.keys():\n",
        "  media_setor = sum(idades[setor]) / len(idades[setor])\n",
        "  medias.append(media_setor)\n",
        "\n",
        "  print(f'A média de idade no {setor} é de {media_setor} anos')\n",
        "\n",
        "# calcula a média geral\n",
        "media_total = sum(medias) / len(medias)\n",
        "print(f'A média geral é de: {media_total}')\n",
        "\n",
        "# analisa quantos funcionários são mais velhos que a média geral\n",
        "for setor in idades.keys():\n",
        "  for i in idades[setor]:\n",
        "    if i > media_total:\n",
        "      maiores_que_media +=1\n",
        "\n",
        "print(f'A quantidade de funcionários mais velhos que a média geral é de: {maiores_que_media} funcionários')"
      ],
      "metadata": {
        "id": "wCiwyKP3MmTz",
        "colab": {
          "base_uri": "https://localhost:8080/"
        },
        "outputId": "aff62690-41ab-4ae9-e792-dca2cc9b3bb1"
      },
      "execution_count": null,
      "outputs": [
        {
          "output_type": "stream",
          "name": "stdout",
          "text": [
            "A média de idade no Setor A é de 39.9 anos\n",
            "A média de idade no Setor B é de 42.3 anos\n",
            "A média de idade no Setor C é de 35.8 anos\n",
            "A média de idade no Setor D é de 36.5 anos\n",
            "A média geral é de: 38.625\n",
            "A quantidade de funcionários mais velhos que a média geral é de: 18 funcionários\n"
          ]
        }
      ]
    }
  ]
}
